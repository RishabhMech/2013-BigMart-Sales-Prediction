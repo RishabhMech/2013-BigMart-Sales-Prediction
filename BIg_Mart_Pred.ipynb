{
  "nbformat": 4,
  "nbformat_minor": 0,
  "metadata": {
    "colab": {
      "name": "pred1.ipynb",
      "provenance": [],
      "collapsed_sections": []
    },
    "kernelspec": {
      "name": "python3",
      "display_name": "Python 3"
    }
  },
  "cells": [
    {
      "cell_type": "code",
      "metadata": {
        "id": "V9k13Z9Wh848",
        "outputId": "b7139fef-0f55-4ba0-fee4-a5ac5dd8f651",
        "colab": {
          "base_uri": "https://localhost:8080/",
          "height": 34
        }
      },
      "source": [
        "#Mount your google drive to fetch the stored data\n",
        "from google.colab import drive\n",
        "drive.mount('/content/drive')"
      ],
      "execution_count": 5,
      "outputs": [
        {
          "output_type": "stream",
          "text": [
            "Drive already mounted at /content/drive; to attempt to forcibly remount, call drive.mount(\"/content/drive\", force_remount=True).\n"
          ],
          "name": "stdout"
        }
      ]
    },
    {
      "cell_type": "code",
      "metadata": {
        "id": "09Gh67C-3Gdc"
      },
      "source": [
        "# Import all necessary librabries\n",
        "import numpy as np\n",
        "import pandas as pd\n",
        "import matplotlib.pyplot as plt\n",
        "import seaborn as sns \n",
        "import itertools\n",
        "import warnings\n",
        "warnings.filterwarnings(\"ignore\")\n",
        "\n",
        "from sklearn.preprocessing import LabelEncoder\n",
        "import sklearn.linear_model\n",
        "import sklearn.ensemble"
      ],
      "execution_count": 66,
      "outputs": []
    },
    {
      "cell_type": "code",
      "metadata": {
        "id": "xq7hGJ1ADbv1",
        "outputId": "5bd13aa5-da3d-42dd-daea-fe7cbe5295b0",
        "colab": {
          "base_uri": "https://localhost:8080/",
          "height": 69
        }
      },
      "source": [
        "%%time\n",
        "train = pd.read_csv('/content/drive/My Drive/BigMart/train_v9.csv')\n",
        "test = pd.read_csv('/content/drive/My Drive/BigMart/test_v9.csv')\n",
        "print(train.shape, test.shape)"
      ],
      "execution_count": 67,
      "outputs": [
        {
          "output_type": "stream",
          "text": [
            "(8523, 12) (5681, 11)\n",
            "CPU times: user 27.6 ms, sys: 7.93 ms, total: 35.5 ms\n",
            "Wall time: 37.9 ms\n"
          ],
          "name": "stdout"
        }
      ]
    },
    {
      "cell_type": "code",
      "metadata": {
        "id": "icTcMCb-E8Xz",
        "outputId": "a7570c5a-bda1-4153-f48a-9f7a21c75144",
        "colab": {
          "base_uri": "https://localhost:8080/",
          "height": 34
        }
      },
      "source": [
        "# combining the train and test dataset\n",
        "data = pd.concat([train, test])\n",
        "print(data.shape)"
      ],
      "execution_count": 68,
      "outputs": [
        {
          "output_type": "stream",
          "text": [
            "(14204, 12)\n"
          ],
          "name": "stdout"
        }
      ]
    },
    {
      "cell_type": "code",
      "metadata": {
        "id": "oiTNEOZAIKET",
        "outputId": "e9ad3fa6-9198-451d-fbcc-20d1b9b50f8f",
        "colab": {
          "base_uri": "https://localhost:8080/",
          "height": 202
        }
      },
      "source": [
        "data.tail()"
      ],
      "execution_count": 69,
      "outputs": [
        {
          "output_type": "execute_result",
          "data": {
            "text/html": [
              "<div>\n",
              "<style scoped>\n",
              "    .dataframe tbody tr th:only-of-type {\n",
              "        vertical-align: middle;\n",
              "    }\n",
              "\n",
              "    .dataframe tbody tr th {\n",
              "        vertical-align: top;\n",
              "    }\n",
              "\n",
              "    .dataframe thead th {\n",
              "        text-align: right;\n",
              "    }\n",
              "</style>\n",
              "<table border=\"1\" class=\"dataframe\">\n",
              "  <thead>\n",
              "    <tr style=\"text-align: right;\">\n",
              "      <th></th>\n",
              "      <th>Item_Identifier</th>\n",
              "      <th>Item_Weight</th>\n",
              "      <th>Item_Fat_Content</th>\n",
              "      <th>Item_Visibility</th>\n",
              "      <th>Item_Type</th>\n",
              "      <th>Item_MRP</th>\n",
              "      <th>Outlet_Identifier</th>\n",
              "      <th>Outlet_Establishment_Year</th>\n",
              "      <th>Outlet_Size</th>\n",
              "      <th>Outlet_Location_Type</th>\n",
              "      <th>Outlet_Type</th>\n",
              "      <th>Item_Outlet_Sales</th>\n",
              "    </tr>\n",
              "  </thead>\n",
              "  <tbody>\n",
              "    <tr>\n",
              "      <th>5676</th>\n",
              "      <td>FDB58</td>\n",
              "      <td>10.5</td>\n",
              "      <td>Regular</td>\n",
              "      <td>0.013496</td>\n",
              "      <td>Snack Foods</td>\n",
              "      <td>141.3154</td>\n",
              "      <td>OUT046</td>\n",
              "      <td>1997</td>\n",
              "      <td>Small</td>\n",
              "      <td>Tier 1</td>\n",
              "      <td>Supermarket Type1</td>\n",
              "      <td>NaN</td>\n",
              "    </tr>\n",
              "    <tr>\n",
              "      <th>5677</th>\n",
              "      <td>FDD47</td>\n",
              "      <td>7.6</td>\n",
              "      <td>Regular</td>\n",
              "      <td>0.142991</td>\n",
              "      <td>Starchy Foods</td>\n",
              "      <td>169.1448</td>\n",
              "      <td>OUT018</td>\n",
              "      <td>2009</td>\n",
              "      <td>Medium</td>\n",
              "      <td>Tier 3</td>\n",
              "      <td>Supermarket Type2</td>\n",
              "      <td>NaN</td>\n",
              "    </tr>\n",
              "    <tr>\n",
              "      <th>5678</th>\n",
              "      <td>NCO17</td>\n",
              "      <td>10.0</td>\n",
              "      <td>Low Fat</td>\n",
              "      <td>0.073529</td>\n",
              "      <td>Health and Hygiene</td>\n",
              "      <td>118.7440</td>\n",
              "      <td>OUT045</td>\n",
              "      <td>2002</td>\n",
              "      <td>NaN</td>\n",
              "      <td>Tier 2</td>\n",
              "      <td>Supermarket Type1</td>\n",
              "      <td>NaN</td>\n",
              "    </tr>\n",
              "    <tr>\n",
              "      <th>5679</th>\n",
              "      <td>FDJ26</td>\n",
              "      <td>15.3</td>\n",
              "      <td>Regular</td>\n",
              "      <td>0.000000</td>\n",
              "      <td>Canned</td>\n",
              "      <td>214.6218</td>\n",
              "      <td>OUT017</td>\n",
              "      <td>2007</td>\n",
              "      <td>NaN</td>\n",
              "      <td>Tier 2</td>\n",
              "      <td>Supermarket Type1</td>\n",
              "      <td>NaN</td>\n",
              "    </tr>\n",
              "    <tr>\n",
              "      <th>5680</th>\n",
              "      <td>FDU37</td>\n",
              "      <td>9.5</td>\n",
              "      <td>Regular</td>\n",
              "      <td>0.104720</td>\n",
              "      <td>Canned</td>\n",
              "      <td>79.7960</td>\n",
              "      <td>OUT045</td>\n",
              "      <td>2002</td>\n",
              "      <td>NaN</td>\n",
              "      <td>Tier 2</td>\n",
              "      <td>Supermarket Type1</td>\n",
              "      <td>NaN</td>\n",
              "    </tr>\n",
              "  </tbody>\n",
              "</table>\n",
              "</div>"
            ],
            "text/plain": [
              "     Item_Identifier  Item_Weight  ...        Outlet_Type  Item_Outlet_Sales\n",
              "5676           FDB58         10.5  ...  Supermarket Type1                NaN\n",
              "5677           FDD47          7.6  ...  Supermarket Type2                NaN\n",
              "5678           NCO17         10.0  ...  Supermarket Type1                NaN\n",
              "5679           FDJ26         15.3  ...  Supermarket Type1                NaN\n",
              "5680           FDU37          9.5  ...  Supermarket Type1                NaN\n",
              "\n",
              "[5 rows x 12 columns]"
            ]
          },
          "metadata": {
            "tags": []
          },
          "execution_count": 69
        }
      ]
    },
    {
      "cell_type": "code",
      "metadata": {
        "id": "9Ti16l0FEAYG",
        "outputId": "826f6b3d-064d-450e-b94e-5c68bfc6ba5d",
        "colab": {
          "base_uri": "https://localhost:8080/",
          "height": 202
        }
      },
      "source": [
        "train.head()"
      ],
      "execution_count": 70,
      "outputs": [
        {
          "output_type": "execute_result",
          "data": {
            "text/html": [
              "<div>\n",
              "<style scoped>\n",
              "    .dataframe tbody tr th:only-of-type {\n",
              "        vertical-align: middle;\n",
              "    }\n",
              "\n",
              "    .dataframe tbody tr th {\n",
              "        vertical-align: top;\n",
              "    }\n",
              "\n",
              "    .dataframe thead th {\n",
              "        text-align: right;\n",
              "    }\n",
              "</style>\n",
              "<table border=\"1\" class=\"dataframe\">\n",
              "  <thead>\n",
              "    <tr style=\"text-align: right;\">\n",
              "      <th></th>\n",
              "      <th>Item_Identifier</th>\n",
              "      <th>Item_Weight</th>\n",
              "      <th>Item_Fat_Content</th>\n",
              "      <th>Item_Visibility</th>\n",
              "      <th>Item_Type</th>\n",
              "      <th>Item_MRP</th>\n",
              "      <th>Outlet_Identifier</th>\n",
              "      <th>Outlet_Establishment_Year</th>\n",
              "      <th>Outlet_Size</th>\n",
              "      <th>Outlet_Location_Type</th>\n",
              "      <th>Outlet_Type</th>\n",
              "      <th>Item_Outlet_Sales</th>\n",
              "    </tr>\n",
              "  </thead>\n",
              "  <tbody>\n",
              "    <tr>\n",
              "      <th>0</th>\n",
              "      <td>FDA15</td>\n",
              "      <td>9.30</td>\n",
              "      <td>Low Fat</td>\n",
              "      <td>0.016047</td>\n",
              "      <td>Dairy</td>\n",
              "      <td>249.8092</td>\n",
              "      <td>OUT049</td>\n",
              "      <td>1999</td>\n",
              "      <td>Medium</td>\n",
              "      <td>Tier 1</td>\n",
              "      <td>Supermarket Type1</td>\n",
              "      <td>3735.1380</td>\n",
              "    </tr>\n",
              "    <tr>\n",
              "      <th>1</th>\n",
              "      <td>DRC01</td>\n",
              "      <td>5.92</td>\n",
              "      <td>Regular</td>\n",
              "      <td>0.019278</td>\n",
              "      <td>Soft Drinks</td>\n",
              "      <td>48.2692</td>\n",
              "      <td>OUT018</td>\n",
              "      <td>2009</td>\n",
              "      <td>Medium</td>\n",
              "      <td>Tier 3</td>\n",
              "      <td>Supermarket Type2</td>\n",
              "      <td>443.4228</td>\n",
              "    </tr>\n",
              "    <tr>\n",
              "      <th>2</th>\n",
              "      <td>FDN15</td>\n",
              "      <td>17.50</td>\n",
              "      <td>Low Fat</td>\n",
              "      <td>0.016760</td>\n",
              "      <td>Meat</td>\n",
              "      <td>141.6180</td>\n",
              "      <td>OUT049</td>\n",
              "      <td>1999</td>\n",
              "      <td>Medium</td>\n",
              "      <td>Tier 1</td>\n",
              "      <td>Supermarket Type1</td>\n",
              "      <td>2097.2700</td>\n",
              "    </tr>\n",
              "    <tr>\n",
              "      <th>3</th>\n",
              "      <td>FDX07</td>\n",
              "      <td>19.20</td>\n",
              "      <td>Regular</td>\n",
              "      <td>0.000000</td>\n",
              "      <td>Fruits and Vegetables</td>\n",
              "      <td>182.0950</td>\n",
              "      <td>OUT010</td>\n",
              "      <td>1998</td>\n",
              "      <td>NaN</td>\n",
              "      <td>Tier 3</td>\n",
              "      <td>Grocery Store</td>\n",
              "      <td>732.3800</td>\n",
              "    </tr>\n",
              "    <tr>\n",
              "      <th>4</th>\n",
              "      <td>NCD19</td>\n",
              "      <td>8.93</td>\n",
              "      <td>Low Fat</td>\n",
              "      <td>0.000000</td>\n",
              "      <td>Household</td>\n",
              "      <td>53.8614</td>\n",
              "      <td>OUT013</td>\n",
              "      <td>1987</td>\n",
              "      <td>High</td>\n",
              "      <td>Tier 3</td>\n",
              "      <td>Supermarket Type1</td>\n",
              "      <td>994.7052</td>\n",
              "    </tr>\n",
              "  </tbody>\n",
              "</table>\n",
              "</div>"
            ],
            "text/plain": [
              "  Item_Identifier  Item_Weight  ...        Outlet_Type  Item_Outlet_Sales\n",
              "0           FDA15         9.30  ...  Supermarket Type1          3735.1380\n",
              "1           DRC01         5.92  ...  Supermarket Type2           443.4228\n",
              "2           FDN15        17.50  ...  Supermarket Type1          2097.2700\n",
              "3           FDX07        19.20  ...      Grocery Store           732.3800\n",
              "4           NCD19         8.93  ...  Supermarket Type1           994.7052\n",
              "\n",
              "[5 rows x 12 columns]"
            ]
          },
          "metadata": {
            "tags": []
          },
          "execution_count": 70
        }
      ]
    },
    {
      "cell_type": "code",
      "metadata": {
        "id": "a_BB1wWVF1ic",
        "outputId": "c627800f-b2f7-4677-ddde-bf7c7d60e8fa",
        "colab": {
          "base_uri": "https://localhost:8080/",
          "height": 202
        }
      },
      "source": [
        "test.head()"
      ],
      "execution_count": 71,
      "outputs": [
        {
          "output_type": "execute_result",
          "data": {
            "text/html": [
              "<div>\n",
              "<style scoped>\n",
              "    .dataframe tbody tr th:only-of-type {\n",
              "        vertical-align: middle;\n",
              "    }\n",
              "\n",
              "    .dataframe tbody tr th {\n",
              "        vertical-align: top;\n",
              "    }\n",
              "\n",
              "    .dataframe thead th {\n",
              "        text-align: right;\n",
              "    }\n",
              "</style>\n",
              "<table border=\"1\" class=\"dataframe\">\n",
              "  <thead>\n",
              "    <tr style=\"text-align: right;\">\n",
              "      <th></th>\n",
              "      <th>Item_Identifier</th>\n",
              "      <th>Item_Weight</th>\n",
              "      <th>Item_Fat_Content</th>\n",
              "      <th>Item_Visibility</th>\n",
              "      <th>Item_Type</th>\n",
              "      <th>Item_MRP</th>\n",
              "      <th>Outlet_Identifier</th>\n",
              "      <th>Outlet_Establishment_Year</th>\n",
              "      <th>Outlet_Size</th>\n",
              "      <th>Outlet_Location_Type</th>\n",
              "      <th>Outlet_Type</th>\n",
              "    </tr>\n",
              "  </thead>\n",
              "  <tbody>\n",
              "    <tr>\n",
              "      <th>0</th>\n",
              "      <td>FDW58</td>\n",
              "      <td>20.750</td>\n",
              "      <td>Low Fat</td>\n",
              "      <td>0.007565</td>\n",
              "      <td>Snack Foods</td>\n",
              "      <td>107.8622</td>\n",
              "      <td>OUT049</td>\n",
              "      <td>1999</td>\n",
              "      <td>Medium</td>\n",
              "      <td>Tier 1</td>\n",
              "      <td>Supermarket Type1</td>\n",
              "    </tr>\n",
              "    <tr>\n",
              "      <th>1</th>\n",
              "      <td>FDW14</td>\n",
              "      <td>8.300</td>\n",
              "      <td>reg</td>\n",
              "      <td>0.038428</td>\n",
              "      <td>Dairy</td>\n",
              "      <td>87.3198</td>\n",
              "      <td>OUT017</td>\n",
              "      <td>2007</td>\n",
              "      <td>NaN</td>\n",
              "      <td>Tier 2</td>\n",
              "      <td>Supermarket Type1</td>\n",
              "    </tr>\n",
              "    <tr>\n",
              "      <th>2</th>\n",
              "      <td>NCN55</td>\n",
              "      <td>14.600</td>\n",
              "      <td>Low Fat</td>\n",
              "      <td>0.099575</td>\n",
              "      <td>Others</td>\n",
              "      <td>241.7538</td>\n",
              "      <td>OUT010</td>\n",
              "      <td>1998</td>\n",
              "      <td>NaN</td>\n",
              "      <td>Tier 3</td>\n",
              "      <td>Grocery Store</td>\n",
              "    </tr>\n",
              "    <tr>\n",
              "      <th>3</th>\n",
              "      <td>FDQ58</td>\n",
              "      <td>7.315</td>\n",
              "      <td>Low Fat</td>\n",
              "      <td>0.015388</td>\n",
              "      <td>Snack Foods</td>\n",
              "      <td>155.0340</td>\n",
              "      <td>OUT017</td>\n",
              "      <td>2007</td>\n",
              "      <td>NaN</td>\n",
              "      <td>Tier 2</td>\n",
              "      <td>Supermarket Type1</td>\n",
              "    </tr>\n",
              "    <tr>\n",
              "      <th>4</th>\n",
              "      <td>FDY38</td>\n",
              "      <td>NaN</td>\n",
              "      <td>Regular</td>\n",
              "      <td>0.118599</td>\n",
              "      <td>Dairy</td>\n",
              "      <td>234.2300</td>\n",
              "      <td>OUT027</td>\n",
              "      <td>1985</td>\n",
              "      <td>Medium</td>\n",
              "      <td>Tier 3</td>\n",
              "      <td>Supermarket Type3</td>\n",
              "    </tr>\n",
              "  </tbody>\n",
              "</table>\n",
              "</div>"
            ],
            "text/plain": [
              "  Item_Identifier  Item_Weight  ... Outlet_Location_Type        Outlet_Type\n",
              "0           FDW58       20.750  ...               Tier 1  Supermarket Type1\n",
              "1           FDW14        8.300  ...               Tier 2  Supermarket Type1\n",
              "2           NCN55       14.600  ...               Tier 3      Grocery Store\n",
              "3           FDQ58        7.315  ...               Tier 2  Supermarket Type1\n",
              "4           FDY38          NaN  ...               Tier 3  Supermarket Type3\n",
              "\n",
              "[5 rows x 11 columns]"
            ]
          },
          "metadata": {
            "tags": []
          },
          "execution_count": 71
        }
      ]
    },
    {
      "cell_type": "code",
      "metadata": {
        "id": "iG0kFUCoHCG-",
        "outputId": "52c62b23-c062-43a8-e101-ed16145c6080",
        "colab": {
          "base_uri": "https://localhost:8080/",
          "height": 34
        }
      },
      "source": [
        "len(train.columns)"
      ],
      "execution_count": 72,
      "outputs": [
        {
          "output_type": "execute_result",
          "data": {
            "text/plain": [
              "12"
            ]
          },
          "metadata": {
            "tags": []
          },
          "execution_count": 72
        }
      ]
    },
    {
      "cell_type": "code",
      "metadata": {
        "id": "_uIU852OHKku",
        "outputId": "3b768bef-5895-468f-adb4-8166e7c43c54",
        "colab": {
          "base_uri": "https://localhost:8080/",
          "height": 34
        }
      },
      "source": [
        "len(test.columns)"
      ],
      "execution_count": 73,
      "outputs": [
        {
          "output_type": "execute_result",
          "data": {
            "text/plain": [
              "11"
            ]
          },
          "metadata": {
            "tags": []
          },
          "execution_count": 73
        }
      ]
    },
    {
      "cell_type": "code",
      "metadata": {
        "id": "4jKGozoRISCi",
        "outputId": "dbf34d13-680c-448d-99fe-bccbb210e270",
        "colab": {
          "base_uri": "https://localhost:8080/",
          "height": 728
        }
      },
      "source": [
        "for i in ['Item_Fat_Content', 'Item_Type','Outlet_Size', 'Outlet_Location_Type', 'Outlet_Type']:\n",
        "  print(\"Count Info for {} is {}\".format(i, train[i].value_counts()))\n",
        "  print(\"Count Info for {} is {}\".format(i, train[i].nunique()))"
      ],
      "execution_count": 74,
      "outputs": [
        {
          "output_type": "stream",
          "text": [
            "Count Info for Item_Fat_Content is Low Fat    5089\n",
            "Regular    2889\n",
            "LF          316\n",
            "reg         117\n",
            "low fat     112\n",
            "Name: Item_Fat_Content, dtype: int64\n",
            "Count Info for Item_Fat_Content is 5\n",
            "Count Info for Item_Type is Fruits and Vegetables    1232\n",
            "Snack Foods              1200\n",
            "Household                 910\n",
            "Frozen Foods              856\n",
            "Dairy                     682\n",
            "Canned                    649\n",
            "Baking Goods              648\n",
            "Health and Hygiene        520\n",
            "Soft Drinks               445\n",
            "Meat                      425\n",
            "Breads                    251\n",
            "Hard Drinks               214\n",
            "Others                    169\n",
            "Starchy Foods             148\n",
            "Breakfast                 110\n",
            "Seafood                    64\n",
            "Name: Item_Type, dtype: int64\n",
            "Count Info for Item_Type is 16\n",
            "Count Info for Outlet_Size is Medium    2793\n",
            "Small     2388\n",
            "High       932\n",
            "Name: Outlet_Size, dtype: int64\n",
            "Count Info for Outlet_Size is 3\n",
            "Count Info for Outlet_Location_Type is Tier 3    3350\n",
            "Tier 2    2785\n",
            "Tier 1    2388\n",
            "Name: Outlet_Location_Type, dtype: int64\n",
            "Count Info for Outlet_Location_Type is 3\n",
            "Count Info for Outlet_Type is Supermarket Type1    5577\n",
            "Grocery Store        1083\n",
            "Supermarket Type3     935\n",
            "Supermarket Type2     928\n",
            "Name: Outlet_Type, dtype: int64\n",
            "Count Info for Outlet_Type is 4\n"
          ],
          "name": "stdout"
        }
      ]
    },
    {
      "cell_type": "code",
      "metadata": {
        "id": "q0YesZH4J2nh",
        "outputId": "6963c612-2e6c-4469-fba2-ebca456e663f",
        "colab": {
          "base_uri": "https://localhost:8080/",
          "height": 242
        }
      },
      "source": [
        "train.isnull().sum()"
      ],
      "execution_count": 75,
      "outputs": [
        {
          "output_type": "execute_result",
          "data": {
            "text/plain": [
              "Item_Identifier                 0\n",
              "Item_Weight                  1463\n",
              "Item_Fat_Content                0\n",
              "Item_Visibility                 0\n",
              "Item_Type                       0\n",
              "Item_MRP                        0\n",
              "Outlet_Identifier               0\n",
              "Outlet_Establishment_Year       0\n",
              "Outlet_Size                  2410\n",
              "Outlet_Location_Type            0\n",
              "Outlet_Type                     0\n",
              "Item_Outlet_Sales               0\n",
              "dtype: int64"
            ]
          },
          "metadata": {
            "tags": []
          },
          "execution_count": 75
        }
      ]
    },
    {
      "cell_type": "code",
      "metadata": {
        "id": "OyIvNZoeS-Mg"
      },
      "source": [
        "pd.set_option('max_rows', 200)\n",
        "pd.set_option('max_colwidth', 200)"
      ],
      "execution_count": 76,
      "outputs": []
    },
    {
      "cell_type": "code",
      "metadata": {
        "id": "RKbNEL5OJ2tY",
        "outputId": "59087308-fcc9-4c1c-db31-176c99585a2c",
        "colab": {
          "base_uri": "https://localhost:8080/",
          "height": 381
        }
      },
      "source": [
        "train['Item_Identifier'].value_counts(ascending=False)[0:20]"
      ],
      "execution_count": 77,
      "outputs": [
        {
          "output_type": "execute_result",
          "data": {
            "text/plain": [
              "FDG33    10\n",
              "FDW13    10\n",
              "NCJ30     9\n",
              "FDD38     9\n",
              "FDX31     9\n",
              "DRN47     9\n",
              "NCL31     9\n",
              "FDF56     9\n",
              "FDV38     9\n",
              "FDV60     9\n",
              "NCY18     9\n",
              "NCB18     9\n",
              "FDX04     9\n",
              "FDQ40     9\n",
              "FDT07     9\n",
              "DRE49     9\n",
              "FDP25     9\n",
              "NCQ06     9\n",
              "FDU12     9\n",
              "NCF42     9\n",
              "Name: Item_Identifier, dtype: int64"
            ]
          },
          "metadata": {
            "tags": []
          },
          "execution_count": 77
        }
      ]
    },
    {
      "cell_type": "code",
      "metadata": {
        "id": "9ZJHgI_AJ2w6",
        "outputId": "e9bcff84-8bd0-4300-ece8-7beba4a4967c",
        "colab": {
          "base_uri": "https://localhost:8080/",
          "height": 513
        }
      },
      "source": [
        "train['Item_Identifier'].value_counts(normalize = True)\n",
        "train['Item_Identifier'].value_counts().plot.hist(figsize=(8,8))\n",
        "plt.title('Different types of item available in the store')\n",
        "plt.xlabel('Item Identifier')\n",
        "plt.ylabel('Number of Items')\n",
        "plt.show()"
      ],
      "execution_count": 78,
      "outputs": [
        {
          "output_type": "display_data",
          "data": {
            "image/png": "[encoded data removed]",
            "text/plain": [
              "<Figure size 576x576 with 1 Axes>"
            ]
          },
          "metadata": {
            "tags": [],
            "needs_background": "light"
          }
        }
      ]
    },
    {
      "cell_type": "code",
      "metadata": {
        "id": "WDvJ8kckJ228",
        "outputId": "cf27d121-96f5-4607-9ff5-f561305896d3",
        "colab": {
          "base_uri": "https://localhost:8080/",
          "height": 541
        }
      },
      "source": [
        "train['Item_Fat_Content'].value_counts(normalize = True)\n",
        "train['Item_Fat_Content'].value_counts().plot.bar(figsize=(8,8))\n",
        "plt.title('Different varieties of fats in item in the store')\n",
        "plt.xlabel('Fat')\n",
        "plt.ylabel('Number of Items')\n",
        "plt.show()"
      ],
      "execution_count": 79,
      "outputs": [
        {
          "output_type": "display_data",
          "data": {
            "image/png": "[encoded data removed]",
            "text/plain": [
              "<Figure size 576x576 with 1 Axes>"
            ]
          },
          "metadata": {
            "tags": [],
            "needs_background": "light"
          }
        }
      ]
    },
    {
      "cell_type": "markdown",
      "metadata": {
        "id": "TWkYVN32Fvxd"
      },
      "source": [
        "#Feature Engineering"
      ]
    },
    {
      "cell_type": "code",
      "metadata": {
        "id": "lKbLvC7yJ26i"
      },
      "source": [
        "data['Item_Weight']= data['Item_Weight'].fillna(data.groupby('Item_Identifier')['Item_Weight'].transform('mean'))"
      ],
      "execution_count": 80,
      "outputs": []
    },
    {
      "cell_type": "code",
      "metadata": {
        "id": "S-BsXF7OnnIZ",
        "outputId": "db312dd3-5315-44a4-8780-310f2e858a0e",
        "colab": {
          "base_uri": "https://localhost:8080/",
          "height": 242
        }
      },
      "source": [
        "data.isnull().sum()"
      ],
      "execution_count": 81,
      "outputs": [
        {
          "output_type": "execute_result",
          "data": {
            "text/plain": [
              "Item_Identifier                 0\n",
              "Item_Weight                     0\n",
              "Item_Fat_Content                0\n",
              "Item_Visibility                 0\n",
              "Item_Type                       0\n",
              "Item_MRP                        0\n",
              "Outlet_Identifier               0\n",
              "Outlet_Establishment_Year       0\n",
              "Outlet_Size                  4016\n",
              "Outlet_Location_Type            0\n",
              "Outlet_Type                     0\n",
              "Item_Outlet_Sales            5681\n",
              "dtype: int64"
            ]
          },
          "metadata": {
            "tags": []
          },
          "execution_count": 81
        }
      ]
    },
    {
      "cell_type": "code",
      "metadata": {
        "id": "qqn_9NRuynU5",
        "outputId": "1b48a92e-7b50-48ca-931a-5aa62fa92c09",
        "colab": {
          "base_uri": "https://localhost:8080/",
          "height": 172
        }
      },
      "source": [
        "pd.crosstab(data['Outlet_Size'], data['Outlet_Location_Type'])"
      ],
      "execution_count": 82,
      "outputs": [
        {
          "output_type": "execute_result",
          "data": {
            "text/html": [
              "<div>\n",
              "<style scoped>\n",
              "    .dataframe tbody tr th:only-of-type {\n",
              "        vertical-align: middle;\n",
              "    }\n",
              "\n",
              "    .dataframe tbody tr th {\n",
              "        vertical-align: top;\n",
              "    }\n",
              "\n",
              "    .dataframe thead th {\n",
              "        text-align: right;\n",
              "    }\n",
              "</style>\n",
              "<table border=\"1\" class=\"dataframe\">\n",
              "  <thead>\n",
              "    <tr style=\"text-align: right;\">\n",
              "      <th>Outlet_Location_Type</th>\n",
              "      <th>Tier 1</th>\n",
              "      <th>Tier 2</th>\n",
              "      <th>Tier 3</th>\n",
              "    </tr>\n",
              "    <tr>\n",
              "      <th>Outlet_Size</th>\n",
              "      <th></th>\n",
              "      <th></th>\n",
              "      <th></th>\n",
              "    </tr>\n",
              "  </thead>\n",
              "  <tbody>\n",
              "    <tr>\n",
              "      <th>High</th>\n",
              "      <td>0</td>\n",
              "      <td>0</td>\n",
              "      <td>1553</td>\n",
              "    </tr>\n",
              "    <tr>\n",
              "      <th>Medium</th>\n",
              "      <td>1550</td>\n",
              "      <td>0</td>\n",
              "      <td>3105</td>\n",
              "    </tr>\n",
              "    <tr>\n",
              "      <th>Small</th>\n",
              "      <td>2430</td>\n",
              "      <td>1550</td>\n",
              "      <td>0</td>\n",
              "    </tr>\n",
              "  </tbody>\n",
              "</table>\n",
              "</div>"
            ],
            "text/plain": [
              "Outlet_Location_Type  Tier 1  Tier 2  Tier 3\n",
              "Outlet_Size                                 \n",
              "High                       0       0    1553\n",
              "Medium                  1550       0    3105\n",
              "Small                   2430    1550       0"
            ]
          },
          "metadata": {
            "tags": []
          },
          "execution_count": 82
        }
      ]
    },
    {
      "cell_type": "code",
      "metadata": {
        "id": "7fcVa1o5CC2r",
        "outputId": "2dd644ae-a019-497b-cc97-b9fde65dae3d",
        "colab": {
          "base_uri": "https://localhost:8080/",
          "height": 172
        }
      },
      "source": [
        "pd.crosstab(data['Outlet_Size'], data['Outlet_Type'])"
      ],
      "execution_count": 83,
      "outputs": [
        {
          "output_type": "execute_result",
          "data": {
            "text/html": [
              "<div>\n",
              "<style scoped>\n",
              "    .dataframe tbody tr th:only-of-type {\n",
              "        vertical-align: middle;\n",
              "    }\n",
              "\n",
              "    .dataframe tbody tr th {\n",
              "        vertical-align: top;\n",
              "    }\n",
              "\n",
              "    .dataframe thead th {\n",
              "        text-align: right;\n",
              "    }\n",
              "</style>\n",
              "<table border=\"1\" class=\"dataframe\">\n",
              "  <thead>\n",
              "    <tr style=\"text-align: right;\">\n",
              "      <th>Outlet_Type</th>\n",
              "      <th>Grocery Store</th>\n",
              "      <th>Supermarket Type1</th>\n",
              "      <th>Supermarket Type2</th>\n",
              "      <th>Supermarket Type3</th>\n",
              "    </tr>\n",
              "    <tr>\n",
              "      <th>Outlet_Size</th>\n",
              "      <th></th>\n",
              "      <th></th>\n",
              "      <th></th>\n",
              "      <th></th>\n",
              "    </tr>\n",
              "  </thead>\n",
              "  <tbody>\n",
              "    <tr>\n",
              "      <th>High</th>\n",
              "      <td>0</td>\n",
              "      <td>1553</td>\n",
              "      <td>0</td>\n",
              "      <td>0</td>\n",
              "    </tr>\n",
              "    <tr>\n",
              "      <th>Medium</th>\n",
              "      <td>0</td>\n",
              "      <td>1550</td>\n",
              "      <td>1546</td>\n",
              "      <td>1559</td>\n",
              "    </tr>\n",
              "    <tr>\n",
              "      <th>Small</th>\n",
              "      <td>880</td>\n",
              "      <td>3100</td>\n",
              "      <td>0</td>\n",
              "      <td>0</td>\n",
              "    </tr>\n",
              "  </tbody>\n",
              "</table>\n",
              "</div>"
            ],
            "text/plain": [
              "Outlet_Type  Grocery Store  ...  Supermarket Type3\n",
              "Outlet_Size                 ...                   \n",
              "High                     0  ...                  0\n",
              "Medium                   0  ...               1559\n",
              "Small                  880  ...                  0\n",
              "\n",
              "[3 rows x 4 columns]"
            ]
          },
          "metadata": {
            "tags": []
          },
          "execution_count": 83
        }
      ]
    },
    {
      "cell_type": "code",
      "metadata": {
        "id": "2KSXmkyb3d9a"
      },
      "source": [
        "d={'Grocery Store':'Small', 'Supermarket Type2': 'Medium', 'Supermarket Type3': 'Medium'}\n",
        "s=data['Outlet_Type'].map(d)\n",
        "data['Outlet_Size']= data['Outlet_Size'].combine_first(s)"
      ],
      "execution_count": 84,
      "outputs": []
    },
    {
      "cell_type": "code",
      "metadata": {
        "id": "1pE7A89z8qP2"
      },
      "source": [
        "d={'Tier 2':'Small'}\n",
        "s=data['Outlet_Location_Type'].map(d)\n",
        "data['Outlet_Size']= data['Outlet_Size'].combine_first(s)"
      ],
      "execution_count": 85,
      "outputs": []
    },
    {
      "cell_type": "code",
      "metadata": {
        "id": "PDnjoIHt9HOA",
        "outputId": "50953a31-1871-4ab6-c28f-a570f5627198",
        "colab": {
          "base_uri": "https://localhost:8080/",
          "height": 242
        }
      },
      "source": [
        "data.isnull().sum()"
      ],
      "execution_count": 86,
      "outputs": [
        {
          "output_type": "execute_result",
          "data": {
            "text/plain": [
              "Item_Identifier                 0\n",
              "Item_Weight                     0\n",
              "Item_Fat_Content                0\n",
              "Item_Visibility                 0\n",
              "Item_Type                       0\n",
              "Item_MRP                        0\n",
              "Outlet_Identifier               0\n",
              "Outlet_Establishment_Year       0\n",
              "Outlet_Size                     0\n",
              "Outlet_Location_Type            0\n",
              "Outlet_Type                     0\n",
              "Item_Outlet_Sales            5681\n",
              "dtype: int64"
            ]
          },
          "metadata": {
            "tags": []
          },
          "execution_count": 86
        }
      ]
    },
    {
      "cell_type": "code",
      "metadata": {
        "id": "1QTJOkf7-UCV",
        "outputId": "079c12d5-00e3-4c00-aca1-d4a8424e6717",
        "colab": {
          "base_uri": "https://localhost:8080/",
          "height": 34
        }
      },
      "source": [
        "len(data['Item_Visibility'][data['Item_Visibility']==0])"
      ],
      "execution_count": 87,
      "outputs": [
        {
          "output_type": "execute_result",
          "data": {
            "text/plain": [
              "879"
            ]
          },
          "metadata": {
            "tags": []
          },
          "execution_count": 87
        }
      ]
    },
    {
      "cell_type": "code",
      "metadata": {
        "id": "DAzYj6ZZKM0l"
      },
      "source": [
        "'''From above observations their are many zeros for item_Visiblity which not possible so \n",
        "fill by corresponding means of Item_Identifiers'''\n",
        "data['Item_Visibility']= data['Item_Visibility'].replace(0.00000,np.nan) #First fill by nan for simplicity\n",
        "data['Item_Visibility']= data['Item_Visibility'].fillna(data.groupby('Item_Identifier')['Item_Visibility'].transform('mean'))"
      ],
      "execution_count": 88,
      "outputs": []
    },
    {
      "cell_type": "code",
      "metadata": {
        "id": "rbKFp2wnLOOG"
      },
      "source": [
        "# No of years outlet is working conditon \n",
        "data['Outlet_Establishment_Year']= data['Outlet_Establishment_Year'].astype(int)\n",
        "data['Outlet_Period']= 2020- data['Outlet_Establishment_Year']\n",
        "data.drop(columns=['Outlet_Establishment_Year'], inplace=True)"
      ],
      "execution_count": 89,
      "outputs": []
    },
    {
      "cell_type": "code",
      "metadata": {
        "id": "VHkI4hwlOmCb",
        "outputId": "7b0cde2c-4004-46ea-b918-fefbc38a9ade",
        "colab": {
          "base_uri": "https://localhost:8080/",
          "height": 121
        }
      },
      "source": [
        "data['Item_Fat_Content'].value_counts()"
      ],
      "execution_count": 90,
      "outputs": [
        {
          "output_type": "execute_result",
          "data": {
            "text/plain": [
              "Low Fat    8485\n",
              "Regular    4824\n",
              "LF          522\n",
              "reg         195\n",
              "low fat     178\n",
              "Name: Item_Fat_Content, dtype: int64"
            ]
          },
          "metadata": {
            "tags": []
          },
          "execution_count": 90
        }
      ]
    },
    {
      "cell_type": "code",
      "metadata": {
        "id": "yhLg31yMLOYO",
        "outputId": "cd9e709e-5887-4652-c970-c80ba6d99dab",
        "colab": {
          "base_uri": "https://localhost:8080/",
          "height": 69
        }
      },
      "source": [
        "# Now replace LF by Low Fat, low fat by Low Fat, reg by Regular\n",
        "data['Item_Fat_Content']= data['Item_Fat_Content'].replace({'low fat':'Low Fat','reg':'Regular','LF':'Low Fat'})\n",
        "data.Item_Fat_Content.value_counts()"
      ],
      "execution_count": 91,
      "outputs": [
        {
          "output_type": "execute_result",
          "data": {
            "text/plain": [
              "Low Fat    9185\n",
              "Regular    5019\n",
              "Name: Item_Fat_Content, dtype: int64"
            ]
          },
          "metadata": {
            "tags": []
          },
          "execution_count": 91
        }
      ]
    },
    {
      "cell_type": "code",
      "metadata": {
        "id": "nnFK863WOt69",
        "outputId": "1892e60f-5158-419b-876f-a8c835490d74",
        "colab": {
          "base_uri": "https://localhost:8080/",
          "height": 86
        }
      },
      "source": [
        "# Getting the first two characters of ID to separate them into different categories\n",
        "Col_Item_Identifier= data['Item_Identifier'].copy()\n",
        "data['Item_Identifier'] = data['Item_Identifier'].apply(lambda x: x[0:2])\n",
        "data['Item_Identifier'] = data['Item_Identifier'].map({'FD':'Food', 'NC':'Non_Consumable', 'DR':'Drinks'})\n",
        "data['Item_Identifier'].value_counts()"
      ],
      "execution_count": 92,
      "outputs": [
        {
          "output_type": "execute_result",
          "data": {
            "text/plain": [
              "Food              10201\n",
              "Non_Consumable     2686\n",
              "Drinks             1317\n",
              "Name: Item_Identifier, dtype: int64"
            ]
          },
          "metadata": {
            "tags": []
          },
          "execution_count": 92
        }
      ]
    },
    {
      "cell_type": "code",
      "metadata": {
        "id": "W7kg2HKQR4Ok"
      },
      "source": [
        "# Removing unnecessary columns from the dataset\n",
        "Col_Outlet_Identifier= data['Outlet_Identifier'].copy()\n",
        "data= data.drop('Outlet_Identifier', axis = 1)"
      ],
      "execution_count": 93,
      "outputs": []
    },
    {
      "cell_type": "markdown",
      "metadata": {
        "id": "75xz1hF-YCGZ"
      },
      "source": [
        "## Converting Categorical to Numerical"
      ]
    },
    {
      "cell_type": "code",
      "metadata": {
        "id": "i-YIbxjpLOLq"
      },
      "source": [
        "for i in ['Item_Identifier', 'Item_Fat_Content', 'Item_Type', 'Outlet_Size', 'Outlet_Location_Type', 'Outlet_Type']:\n",
        "  data[i]= LabelEncoder().fit_transform(data[i])\n",
        "data= pd.get_dummies(data, columns=['Item_Identifier', 'Item_Fat_Content', 'Item_Type', 'Outlet_Size', 'Outlet_Location_Type', 'Outlet_Type'])"
      ],
      "execution_count": 94,
      "outputs": []
    },
    {
      "cell_type": "code",
      "metadata": {
        "id": "QfTwV6ch2tbt",
        "outputId": "531358e2-674d-4461-ad48-84692c51b2f4",
        "colab": {
          "base_uri": "https://localhost:8080/",
          "height": 436
        }
      },
      "source": [
        "data"
      ],
      "execution_count": 95,
      "outputs": [
        {
          "output_type": "execute_result",
          "data": {
            "text/html": [
              "<div>\n",
              "<style scoped>\n",
              "    .dataframe tbody tr th:only-of-type {\n",
              "        vertical-align: middle;\n",
              "    }\n",
              "\n",
              "    .dataframe tbody tr th {\n",
              "        vertical-align: top;\n",
              "    }\n",
              "\n",
              "    .dataframe thead th {\n",
              "        text-align: right;\n",
              "    }\n",
              "</style>\n",
              "<table border=\"1\" class=\"dataframe\">\n",
              "  <thead>\n",
              "    <tr style=\"text-align: right;\">\n",
              "      <th></th>\n",
              "      <th>Item_Weight</th>\n",
              "      <th>Item_Visibility</th>\n",
              "      <th>Item_MRP</th>\n",
              "      <th>Item_Outlet_Sales</th>\n",
              "      <th>Outlet_Period</th>\n",
              "      <th>Item_Identifier_0</th>\n",
              "      <th>Item_Identifier_1</th>\n",
              "      <th>Item_Identifier_2</th>\n",
              "      <th>Item_Fat_Content_0</th>\n",
              "      <th>Item_Fat_Content_1</th>\n",
              "      <th>Item_Type_0</th>\n",
              "      <th>Item_Type_1</th>\n",
              "      <th>Item_Type_2</th>\n",
              "      <th>Item_Type_3</th>\n",
              "      <th>Item_Type_4</th>\n",
              "      <th>Item_Type_5</th>\n",
              "      <th>Item_Type_6</th>\n",
              "      <th>Item_Type_7</th>\n",
              "      <th>Item_Type_8</th>\n",
              "      <th>Item_Type_9</th>\n",
              "      <th>Item_Type_10</th>\n",
              "      <th>Item_Type_11</th>\n",
              "      <th>Item_Type_12</th>\n",
              "      <th>Item_Type_13</th>\n",
              "      <th>Item_Type_14</th>\n",
              "      <th>Item_Type_15</th>\n",
              "      <th>Outlet_Size_0</th>\n",
              "      <th>Outlet_Size_1</th>\n",
              "      <th>Outlet_Size_2</th>\n",
              "      <th>Outlet_Location_Type_0</th>\n",
              "      <th>Outlet_Location_Type_1</th>\n",
              "      <th>Outlet_Location_Type_2</th>\n",
              "      <th>Outlet_Type_0</th>\n",
              "      <th>Outlet_Type_1</th>\n",
              "      <th>Outlet_Type_2</th>\n",
              "      <th>Outlet_Type_3</th>\n",
              "    </tr>\n",
              "  </thead>\n",
              "  <tbody>\n",
              "    <tr>\n",
              "      <th>0</th>\n",
              "      <td>9.30</td>\n",
              "      <td>0.016047</td>\n",
              "      <td>249.8092</td>\n",
              "      <td>3735.1380</td>\n",
              "      <td>21</td>\n",
              "      <td>0</td>\n",
              "      <td>1</td>\n",
              "      <td>0</td>\n",
              "      <td>1</td>\n",
              "      <td>0</td>\n",
              "      <td>0</td>\n",
              "      <td>0</td>\n",
              "      <td>0</td>\n",
              "      <td>0</td>\n",
              "      <td>1</td>\n",
              "      <td>0</td>\n",
              "      <td>0</td>\n",
              "      <td>0</td>\n",
              "      <td>0</td>\n",
              "      <td>0</td>\n",
              "      <td>0</td>\n",
              "      <td>0</td>\n",
              "      <td>0</td>\n",
              "      <td>0</td>\n",
              "      <td>0</td>\n",
              "      <td>0</td>\n",
              "      <td>0</td>\n",
              "      <td>1</td>\n",
              "      <td>0</td>\n",
              "      <td>1</td>\n",
              "      <td>0</td>\n",
              "      <td>0</td>\n",
              "      <td>0</td>\n",
              "      <td>1</td>\n",
              "      <td>0</td>\n",
              "      <td>0</td>\n",
              "    </tr>\n",
              "    <tr>\n",
              "      <th>1</th>\n",
              "      <td>5.92</td>\n",
              "      <td>0.019278</td>\n",
              "      <td>48.2692</td>\n",
              "      <td>443.4228</td>\n",
              "      <td>11</td>\n",
              "      <td>1</td>\n",
              "      <td>0</td>\n",
              "      <td>0</td>\n",
              "      <td>0</td>\n",
              "      <td>1</td>\n",
              "      <td>0</td>\n",
              "      <td>0</td>\n",
              "      <td>0</td>\n",
              "      <td>0</td>\n",
              "      <td>0</td>\n",
              "      <td>0</td>\n",
              "      <td>0</td>\n",
              "      <td>0</td>\n",
              "      <td>0</td>\n",
              "      <td>0</td>\n",
              "      <td>0</td>\n",
              "      <td>0</td>\n",
              "      <td>0</td>\n",
              "      <td>0</td>\n",
              "      <td>1</td>\n",
              "      <td>0</td>\n",
              "      <td>0</td>\n",
              "      <td>1</td>\n",
              "      <td>0</td>\n",
              "      <td>0</td>\n",
              "      <td>0</td>\n",
              "      <td>1</td>\n",
              "      <td>0</td>\n",
              "      <td>0</td>\n",
              "      <td>1</td>\n",
              "      <td>0</td>\n",
              "    </tr>\n",
              "    <tr>\n",
              "      <th>2</th>\n",
              "      <td>17.50</td>\n",
              "      <td>0.016760</td>\n",
              "      <td>141.6180</td>\n",
              "      <td>2097.2700</td>\n",
              "      <td>21</td>\n",
              "      <td>0</td>\n",
              "      <td>1</td>\n",
              "      <td>0</td>\n",
              "      <td>1</td>\n",
              "      <td>0</td>\n",
              "      <td>0</td>\n",
              "      <td>0</td>\n",
              "      <td>0</td>\n",
              "      <td>0</td>\n",
              "      <td>0</td>\n",
              "      <td>0</td>\n",
              "      <td>0</td>\n",
              "      <td>0</td>\n",
              "      <td>0</td>\n",
              "      <td>0</td>\n",
              "      <td>1</td>\n",
              "      <td>0</td>\n",
              "      <td>0</td>\n",
              "      <td>0</td>\n",
              "      <td>0</td>\n",
              "      <td>0</td>\n",
              "      <td>0</td>\n",
              "      <td>1</td>\n",
              "      <td>0</td>\n",
              "      <td>1</td>\n",
              "      <td>0</td>\n",
              "      <td>0</td>\n",
              "      <td>0</td>\n",
              "      <td>1</td>\n",
              "      <td>0</td>\n",
              "      <td>0</td>\n",
              "    </tr>\n",
              "    <tr>\n",
              "      <th>3</th>\n",
              "      <td>19.20</td>\n",
              "      <td>0.022930</td>\n",
              "      <td>182.0950</td>\n",
              "      <td>732.3800</td>\n",
              "      <td>22</td>\n",
              "      <td>0</td>\n",
              "      <td>1</td>\n",
              "      <td>0</td>\n",
              "      <td>0</td>\n",
              "      <td>1</td>\n",
              "      <td>0</td>\n",
              "      <td>0</td>\n",
              "      <td>0</td>\n",
              "      <td>0</td>\n",
              "      <td>0</td>\n",
              "      <td>0</td>\n",
              "      <td>1</td>\n",
              "      <td>0</td>\n",
              "      <td>0</td>\n",
              "      <td>0</td>\n",
              "      <td>0</td>\n",
              "      <td>0</td>\n",
              "      <td>0</td>\n",
              "      <td>0</td>\n",
              "      <td>0</td>\n",
              "      <td>0</td>\n",
              "      <td>0</td>\n",
              "      <td>0</td>\n",
              "      <td>1</td>\n",
              "      <td>0</td>\n",
              "      <td>0</td>\n",
              "      <td>1</td>\n",
              "      <td>1</td>\n",
              "      <td>0</td>\n",
              "      <td>0</td>\n",
              "      <td>0</td>\n",
              "    </tr>\n",
              "    <tr>\n",
              "      <th>4</th>\n",
              "      <td>8.93</td>\n",
              "      <td>0.014670</td>\n",
              "      <td>53.8614</td>\n",
              "      <td>994.7052</td>\n",
              "      <td>33</td>\n",
              "      <td>0</td>\n",
              "      <td>0</td>\n",
              "      <td>1</td>\n",
              "      <td>1</td>\n",
              "      <td>0</td>\n",
              "      <td>0</td>\n",
              "      <td>0</td>\n",
              "      <td>0</td>\n",
              "      <td>0</td>\n",
              "      <td>0</td>\n",
              "      <td>0</td>\n",
              "      <td>0</td>\n",
              "      <td>0</td>\n",
              "      <td>0</td>\n",
              "      <td>1</td>\n",
              "      <td>0</td>\n",
              "      <td>0</td>\n",
              "      <td>0</td>\n",
              "      <td>0</td>\n",
              "      <td>0</td>\n",
              "      <td>0</td>\n",
              "      <td>1</td>\n",
              "      <td>0</td>\n",
              "      <td>0</td>\n",
              "      <td>0</td>\n",
              "      <td>0</td>\n",
              "      <td>1</td>\n",
              "      <td>0</td>\n",
              "      <td>1</td>\n",
              "      <td>0</td>\n",
              "      <td>0</td>\n",
              "    </tr>\n",
              "    <tr>\n",
              "      <th>...</th>\n",
              "      <td>...</td>\n",
              "      <td>...</td>\n",
              "      <td>...</td>\n",
              "      <td>...</td>\n",
              "      <td>...</td>\n",
              "      <td>...</td>\n",
              "      <td>...</td>\n",
              "      <td>...</td>\n",
              "      <td>...</td>\n",
              "      <td>...</td>\n",
              "      <td>...</td>\n",
              "      <td>...</td>\n",
              "      <td>...</td>\n",
              "      <td>...</td>\n",
              "      <td>...</td>\n",
              "      <td>...</td>\n",
              "      <td>...</td>\n",
              "      <td>...</td>\n",
              "      <td>...</td>\n",
              "      <td>...</td>\n",
              "      <td>...</td>\n",
              "      <td>...</td>\n",
              "      <td>...</td>\n",
              "      <td>...</td>\n",
              "      <td>...</td>\n",
              "      <td>...</td>\n",
              "      <td>...</td>\n",
              "      <td>...</td>\n",
              "      <td>...</td>\n",
              "      <td>...</td>\n",
              "      <td>...</td>\n",
              "      <td>...</td>\n",
              "      <td>...</td>\n",
              "      <td>...</td>\n",
              "      <td>...</td>\n",
              "      <td>...</td>\n",
              "    </tr>\n",
              "    <tr>\n",
              "      <th>5676</th>\n",
              "      <td>10.50</td>\n",
              "      <td>0.013496</td>\n",
              "      <td>141.3154</td>\n",
              "      <td>NaN</td>\n",
              "      <td>23</td>\n",
              "      <td>0</td>\n",
              "      <td>1</td>\n",
              "      <td>0</td>\n",
              "      <td>0</td>\n",
              "      <td>1</td>\n",
              "      <td>0</td>\n",
              "      <td>0</td>\n",
              "      <td>0</td>\n",
              "      <td>0</td>\n",
              "      <td>0</td>\n",
              "      <td>0</td>\n",
              "      <td>0</td>\n",
              "      <td>0</td>\n",
              "      <td>0</td>\n",
              "      <td>0</td>\n",
              "      <td>0</td>\n",
              "      <td>0</td>\n",
              "      <td>0</td>\n",
              "      <td>1</td>\n",
              "      <td>0</td>\n",
              "      <td>0</td>\n",
              "      <td>0</td>\n",
              "      <td>0</td>\n",
              "      <td>1</td>\n",
              "      <td>1</td>\n",
              "      <td>0</td>\n",
              "      <td>0</td>\n",
              "      <td>0</td>\n",
              "      <td>1</td>\n",
              "      <td>0</td>\n",
              "      <td>0</td>\n",
              "    </tr>\n",
              "    <tr>\n",
              "      <th>5677</th>\n",
              "      <td>7.60</td>\n",
              "      <td>0.142991</td>\n",
              "      <td>169.1448</td>\n",
              "      <td>NaN</td>\n",
              "      <td>11</td>\n",
              "      <td>0</td>\n",
              "      <td>1</td>\n",
              "      <td>0</td>\n",
              "      <td>0</td>\n",
              "      <td>1</td>\n",
              "      <td>0</td>\n",
              "      <td>0</td>\n",
              "      <td>0</td>\n",
              "      <td>0</td>\n",
              "      <td>0</td>\n",
              "      <td>0</td>\n",
              "      <td>0</td>\n",
              "      <td>0</td>\n",
              "      <td>0</td>\n",
              "      <td>0</td>\n",
              "      <td>0</td>\n",
              "      <td>0</td>\n",
              "      <td>0</td>\n",
              "      <td>0</td>\n",
              "      <td>0</td>\n",
              "      <td>1</td>\n",
              "      <td>0</td>\n",
              "      <td>1</td>\n",
              "      <td>0</td>\n",
              "      <td>0</td>\n",
              "      <td>0</td>\n",
              "      <td>1</td>\n",
              "      <td>0</td>\n",
              "      <td>0</td>\n",
              "      <td>1</td>\n",
              "      <td>0</td>\n",
              "    </tr>\n",
              "    <tr>\n",
              "      <th>5678</th>\n",
              "      <td>10.00</td>\n",
              "      <td>0.073529</td>\n",
              "      <td>118.7440</td>\n",
              "      <td>NaN</td>\n",
              "      <td>18</td>\n",
              "      <td>0</td>\n",
              "      <td>0</td>\n",
              "      <td>1</td>\n",
              "      <td>1</td>\n",
              "      <td>0</td>\n",
              "      <td>0</td>\n",
              "      <td>0</td>\n",
              "      <td>0</td>\n",
              "      <td>0</td>\n",
              "      <td>0</td>\n",
              "      <td>0</td>\n",
              "      <td>0</td>\n",
              "      <td>0</td>\n",
              "      <td>1</td>\n",
              "      <td>0</td>\n",
              "      <td>0</td>\n",
              "      <td>0</td>\n",
              "      <td>0</td>\n",
              "      <td>0</td>\n",
              "      <td>0</td>\n",
              "      <td>0</td>\n",
              "      <td>0</td>\n",
              "      <td>0</td>\n",
              "      <td>1</td>\n",
              "      <td>0</td>\n",
              "      <td>1</td>\n",
              "      <td>0</td>\n",
              "      <td>0</td>\n",
              "      <td>1</td>\n",
              "      <td>0</td>\n",
              "      <td>0</td>\n",
              "    </tr>\n",
              "    <tr>\n",
              "      <th>5679</th>\n",
              "      <td>15.30</td>\n",
              "      <td>0.098200</td>\n",
              "      <td>214.6218</td>\n",
              "      <td>NaN</td>\n",
              "      <td>13</td>\n",
              "      <td>0</td>\n",
              "      <td>1</td>\n",
              "      <td>0</td>\n",
              "      <td>0</td>\n",
              "      <td>1</td>\n",
              "      <td>0</td>\n",
              "      <td>0</td>\n",
              "      <td>0</td>\n",
              "      <td>1</td>\n",
              "      <td>0</td>\n",
              "      <td>0</td>\n",
              "      <td>0</td>\n",
              "      <td>0</td>\n",
              "      <td>0</td>\n",
              "      <td>0</td>\n",
              "      <td>0</td>\n",
              "      <td>0</td>\n",
              "      <td>0</td>\n",
              "      <td>0</td>\n",
              "      <td>0</td>\n",
              "      <td>0</td>\n",
              "      <td>0</td>\n",
              "      <td>0</td>\n",
              "      <td>1</td>\n",
              "      <td>0</td>\n",
              "      <td>1</td>\n",
              "      <td>0</td>\n",
              "      <td>0</td>\n",
              "      <td>1</td>\n",
              "      <td>0</td>\n",
              "      <td>0</td>\n",
              "    </tr>\n",
              "    <tr>\n",
              "      <th>5680</th>\n",
              "      <td>9.50</td>\n",
              "      <td>0.104720</td>\n",
              "      <td>79.7960</td>\n",
              "      <td>NaN</td>\n",
              "      <td>18</td>\n",
              "      <td>0</td>\n",
              "      <td>1</td>\n",
              "      <td>0</td>\n",
              "      <td>0</td>\n",
              "      <td>1</td>\n",
              "      <td>0</td>\n",
              "      <td>0</td>\n",
              "      <td>0</td>\n",
              "      <td>1</td>\n",
              "      <td>0</td>\n",
              "      <td>0</td>\n",
              "      <td>0</td>\n",
              "      <td>0</td>\n",
              "      <td>0</td>\n",
              "      <td>0</td>\n",
              "      <td>0</td>\n",
              "      <td>0</td>\n",
              "      <td>0</td>\n",
              "      <td>0</td>\n",
              "      <td>0</td>\n",
              "      <td>0</td>\n",
              "      <td>0</td>\n",
              "      <td>0</td>\n",
              "      <td>1</td>\n",
              "      <td>0</td>\n",
              "      <td>1</td>\n",
              "      <td>0</td>\n",
              "      <td>0</td>\n",
              "      <td>1</td>\n",
              "      <td>0</td>\n",
              "      <td>0</td>\n",
              "    </tr>\n",
              "  </tbody>\n",
              "</table>\n",
              "<p>14204 rows × 36 columns</p>\n",
              "</div>"
            ],
            "text/plain": [
              "      Item_Weight  Item_Visibility  ...  Outlet_Type_2  Outlet_Type_3\n",
              "0            9.30         0.016047  ...              0              0\n",
              "1            5.92         0.019278  ...              1              0\n",
              "2           17.50         0.016760  ...              0              0\n",
              "3           19.20         0.022930  ...              0              0\n",
              "4            8.93         0.014670  ...              0              0\n",
              "...           ...              ...  ...            ...            ...\n",
              "5676        10.50         0.013496  ...              0              0\n",
              "5677         7.60         0.142991  ...              1              0\n",
              "5678        10.00         0.073529  ...              0              0\n",
              "5679        15.30         0.098200  ...              0              0\n",
              "5680         9.50         0.104720  ...              0              0\n",
              "\n",
              "[14204 rows x 36 columns]"
            ]
          },
          "metadata": {
            "tags": []
          },
          "execution_count": 95
        }
      ]
    },
    {
      "cell_type": "code",
      "metadata": {
        "id": "477xtXSlbdQ3"
      },
      "source": [
        "train_cp= data.iloc[:8523, :]"
      ],
      "execution_count": 96,
      "outputs": []
    },
    {
      "cell_type": "code",
      "metadata": {
        "id": "UT2Y7lUGdjpA",
        "outputId": "915da544-7c89-47cd-bc27-ab405eb93a9e",
        "colab": {
          "base_uri": "https://localhost:8080/",
          "height": 658
        }
      },
      "source": [
        "train_cp.isnull().sum()"
      ],
      "execution_count": 97,
      "outputs": [
        {
          "output_type": "execute_result",
          "data": {
            "text/plain": [
              "Item_Weight               0\n",
              "Item_Visibility           0\n",
              "Item_MRP                  0\n",
              "Item_Outlet_Sales         0\n",
              "Outlet_Period             0\n",
              "Item_Identifier_0         0\n",
              "Item_Identifier_1         0\n",
              "Item_Identifier_2         0\n",
              "Item_Fat_Content_0        0\n",
              "Item_Fat_Content_1        0\n",
              "Item_Type_0               0\n",
              "Item_Type_1               0\n",
              "Item_Type_2               0\n",
              "Item_Type_3               0\n",
              "Item_Type_4               0\n",
              "Item_Type_5               0\n",
              "Item_Type_6               0\n",
              "Item_Type_7               0\n",
              "Item_Type_8               0\n",
              "Item_Type_9               0\n",
              "Item_Type_10              0\n",
              "Item_Type_11              0\n",
              "Item_Type_12              0\n",
              "Item_Type_13              0\n",
              "Item_Type_14              0\n",
              "Item_Type_15              0\n",
              "Outlet_Size_0             0\n",
              "Outlet_Size_1             0\n",
              "Outlet_Size_2             0\n",
              "Outlet_Location_Type_0    0\n",
              "Outlet_Location_Type_1    0\n",
              "Outlet_Location_Type_2    0\n",
              "Outlet_Type_0             0\n",
              "Outlet_Type_1             0\n",
              "Outlet_Type_2             0\n",
              "Outlet_Type_3             0\n",
              "dtype: int64"
            ]
          },
          "metadata": {
            "tags": []
          },
          "execution_count": 97
        }
      ]
    },
    {
      "cell_type": "code",
      "metadata": {
        "id": "p-iZfXWFiLpT"
      },
      "source": [
        "train_cp.drop(columns=['Item_Outlet_Sales'], inplace=True)"
      ],
      "execution_count": 98,
      "outputs": []
    },
    {
      "cell_type": "code",
      "metadata": {
        "id": "PMGmCEbO4U5F",
        "outputId": "773c5192-4dac-4641-d421-f1bfffdea6f3",
        "colab": {
          "base_uri": "https://localhost:8080/",
          "height": 208
        }
      },
      "source": [
        "train_cp.columns"
      ],
      "execution_count": 99,
      "outputs": [
        {
          "output_type": "execute_result",
          "data": {
            "text/plain": [
              "Index(['Item_Weight', 'Item_Visibility', 'Item_MRP', 'Outlet_Period',\n",
              "       'Item_Identifier_0', 'Item_Identifier_1', 'Item_Identifier_2',\n",
              "       'Item_Fat_Content_0', 'Item_Fat_Content_1', 'Item_Type_0',\n",
              "       'Item_Type_1', 'Item_Type_2', 'Item_Type_3', 'Item_Type_4',\n",
              "       'Item_Type_5', 'Item_Type_6', 'Item_Type_7', 'Item_Type_8',\n",
              "       'Item_Type_9', 'Item_Type_10', 'Item_Type_11', 'Item_Type_12',\n",
              "       'Item_Type_13', 'Item_Type_14', 'Item_Type_15', 'Outlet_Size_0',\n",
              "       'Outlet_Size_1', 'Outlet_Size_2', 'Outlet_Location_Type_0',\n",
              "       'Outlet_Location_Type_1', 'Outlet_Location_Type_2', 'Outlet_Type_0',\n",
              "       'Outlet_Type_1', 'Outlet_Type_2', 'Outlet_Type_3'],\n",
              "      dtype='object')"
            ]
          },
          "metadata": {
            "tags": []
          },
          "execution_count": 99
        }
      ]
    },
    {
      "cell_type": "code",
      "metadata": {
        "id": "rnXkXRBfbYlK",
        "outputId": "69a110d0-c1df-4e6d-f08b-719b40b1a68d",
        "colab": {
          "base_uri": "https://localhost:8080/",
          "height": 1000
        }
      },
      "source": [
        "# calculating VIF for each feature \n",
        "from statsmodels.stats.outliers_influence import variance_inflation_factor\n",
        "vif = [variance_inflation_factor(train_cp.values, i) for i in range(len(train_cp.columns))] \n",
        "vif_df= pd.DataFrame({'Features': train_cp.columns, 'VIF_value': vif})\n",
        "vif_df"
      ],
      "execution_count": 100,
      "outputs": [
        {
          "output_type": "execute_result",
          "data": {
            "text/html": [
              "<div>\n",
              "<style scoped>\n",
              "    .dataframe tbody tr th:only-of-type {\n",
              "        vertical-align: middle;\n",
              "    }\n",
              "\n",
              "    .dataframe tbody tr th {\n",
              "        vertical-align: top;\n",
              "    }\n",
              "\n",
              "    .dataframe thead th {\n",
              "        text-align: right;\n",
              "    }\n",
              "</style>\n",
              "<table border=\"1\" class=\"dataframe\">\n",
              "  <thead>\n",
              "    <tr style=\"text-align: right;\">\n",
              "      <th></th>\n",
              "      <th>Features</th>\n",
              "      <th>VIF_value</th>\n",
              "    </tr>\n",
              "  </thead>\n",
              "  <tbody>\n",
              "    <tr>\n",
              "      <th>0</th>\n",
              "      <td>Item_Weight</td>\n",
              "      <td>1.018330</td>\n",
              "    </tr>\n",
              "    <tr>\n",
              "      <th>1</th>\n",
              "      <td>Item_Visibility</td>\n",
              "      <td>1.104231</td>\n",
              "    </tr>\n",
              "    <tr>\n",
              "      <th>2</th>\n",
              "      <td>Item_MRP</td>\n",
              "      <td>1.017768</td>\n",
              "    </tr>\n",
              "    <tr>\n",
              "      <th>3</th>\n",
              "      <td>Outlet_Period</td>\n",
              "      <td>50.920979</td>\n",
              "    </tr>\n",
              "    <tr>\n",
              "      <th>4</th>\n",
              "      <td>Item_Identifier_0</td>\n",
              "      <td>inf</td>\n",
              "    </tr>\n",
              "    <tr>\n",
              "      <th>5</th>\n",
              "      <td>Item_Identifier_1</td>\n",
              "      <td>inf</td>\n",
              "    </tr>\n",
              "    <tr>\n",
              "      <th>6</th>\n",
              "      <td>Item_Identifier_2</td>\n",
              "      <td>inf</td>\n",
              "    </tr>\n",
              "    <tr>\n",
              "      <th>7</th>\n",
              "      <td>Item_Fat_Content_0</td>\n",
              "      <td>inf</td>\n",
              "    </tr>\n",
              "    <tr>\n",
              "      <th>8</th>\n",
              "      <td>Item_Fat_Content_1</td>\n",
              "      <td>inf</td>\n",
              "    </tr>\n",
              "    <tr>\n",
              "      <th>9</th>\n",
              "      <td>Item_Type_0</td>\n",
              "      <td>inf</td>\n",
              "    </tr>\n",
              "    <tr>\n",
              "      <th>10</th>\n",
              "      <td>Item_Type_1</td>\n",
              "      <td>inf</td>\n",
              "    </tr>\n",
              "    <tr>\n",
              "      <th>11</th>\n",
              "      <td>Item_Type_2</td>\n",
              "      <td>inf</td>\n",
              "    </tr>\n",
              "    <tr>\n",
              "      <th>12</th>\n",
              "      <td>Item_Type_3</td>\n",
              "      <td>inf</td>\n",
              "    </tr>\n",
              "    <tr>\n",
              "      <th>13</th>\n",
              "      <td>Item_Type_4</td>\n",
              "      <td>inf</td>\n",
              "    </tr>\n",
              "    <tr>\n",
              "      <th>14</th>\n",
              "      <td>Item_Type_5</td>\n",
              "      <td>inf</td>\n",
              "    </tr>\n",
              "    <tr>\n",
              "      <th>15</th>\n",
              "      <td>Item_Type_6</td>\n",
              "      <td>inf</td>\n",
              "    </tr>\n",
              "    <tr>\n",
              "      <th>16</th>\n",
              "      <td>Item_Type_7</td>\n",
              "      <td>inf</td>\n",
              "    </tr>\n",
              "    <tr>\n",
              "      <th>17</th>\n",
              "      <td>Item_Type_8</td>\n",
              "      <td>inf</td>\n",
              "    </tr>\n",
              "    <tr>\n",
              "      <th>18</th>\n",
              "      <td>Item_Type_9</td>\n",
              "      <td>inf</td>\n",
              "    </tr>\n",
              "    <tr>\n",
              "      <th>19</th>\n",
              "      <td>Item_Type_10</td>\n",
              "      <td>inf</td>\n",
              "    </tr>\n",
              "    <tr>\n",
              "      <th>20</th>\n",
              "      <td>Item_Type_11</td>\n",
              "      <td>inf</td>\n",
              "    </tr>\n",
              "    <tr>\n",
              "      <th>21</th>\n",
              "      <td>Item_Type_12</td>\n",
              "      <td>inf</td>\n",
              "    </tr>\n",
              "    <tr>\n",
              "      <th>22</th>\n",
              "      <td>Item_Type_13</td>\n",
              "      <td>inf</td>\n",
              "    </tr>\n",
              "    <tr>\n",
              "      <th>23</th>\n",
              "      <td>Item_Type_14</td>\n",
              "      <td>inf</td>\n",
              "    </tr>\n",
              "    <tr>\n",
              "      <th>24</th>\n",
              "      <td>Item_Type_15</td>\n",
              "      <td>inf</td>\n",
              "    </tr>\n",
              "    <tr>\n",
              "      <th>25</th>\n",
              "      <td>Outlet_Size_0</td>\n",
              "      <td>inf</td>\n",
              "    </tr>\n",
              "    <tr>\n",
              "      <th>26</th>\n",
              "      <td>Outlet_Size_1</td>\n",
              "      <td>inf</td>\n",
              "    </tr>\n",
              "    <tr>\n",
              "      <th>27</th>\n",
              "      <td>Outlet_Size_2</td>\n",
              "      <td>inf</td>\n",
              "    </tr>\n",
              "    <tr>\n",
              "      <th>28</th>\n",
              "      <td>Outlet_Location_Type_0</td>\n",
              "      <td>inf</td>\n",
              "    </tr>\n",
              "    <tr>\n",
              "      <th>29</th>\n",
              "      <td>Outlet_Location_Type_1</td>\n",
              "      <td>inf</td>\n",
              "    </tr>\n",
              "    <tr>\n",
              "      <th>30</th>\n",
              "      <td>Outlet_Location_Type_2</td>\n",
              "      <td>inf</td>\n",
              "    </tr>\n",
              "    <tr>\n",
              "      <th>31</th>\n",
              "      <td>Outlet_Type_0</td>\n",
              "      <td>inf</td>\n",
              "    </tr>\n",
              "    <tr>\n",
              "      <th>32</th>\n",
              "      <td>Outlet_Type_1</td>\n",
              "      <td>inf</td>\n",
              "    </tr>\n",
              "    <tr>\n",
              "      <th>33</th>\n",
              "      <td>Outlet_Type_2</td>\n",
              "      <td>inf</td>\n",
              "    </tr>\n",
              "    <tr>\n",
              "      <th>34</th>\n",
              "      <td>Outlet_Type_3</td>\n",
              "      <td>inf</td>\n",
              "    </tr>\n",
              "  </tbody>\n",
              "</table>\n",
              "</div>"
            ],
            "text/plain": [
              "                  Features  VIF_value\n",
              "0              Item_Weight   1.018330\n",
              "1          Item_Visibility   1.104231\n",
              "2                 Item_MRP   1.017768\n",
              "3            Outlet_Period  50.920979\n",
              "4        Item_Identifier_0        inf\n",
              "5        Item_Identifier_1        inf\n",
              "6        Item_Identifier_2        inf\n",
              "7       Item_Fat_Content_0        inf\n",
              "8       Item_Fat_Content_1        inf\n",
              "9              Item_Type_0        inf\n",
              "10             Item_Type_1        inf\n",
              "11             Item_Type_2        inf\n",
              "12             Item_Type_3        inf\n",
              "13             Item_Type_4        inf\n",
              "14             Item_Type_5        inf\n",
              "15             Item_Type_6        inf\n",
              "16             Item_Type_7        inf\n",
              "17             Item_Type_8        inf\n",
              "18             Item_Type_9        inf\n",
              "19            Item_Type_10        inf\n",
              "20            Item_Type_11        inf\n",
              "21            Item_Type_12        inf\n",
              "22            Item_Type_13        inf\n",
              "23            Item_Type_14        inf\n",
              "24            Item_Type_15        inf\n",
              "25           Outlet_Size_0        inf\n",
              "26           Outlet_Size_1        inf\n",
              "27           Outlet_Size_2        inf\n",
              "28  Outlet_Location_Type_0        inf\n",
              "29  Outlet_Location_Type_1        inf\n",
              "30  Outlet_Location_Type_2        inf\n",
              "31           Outlet_Type_0        inf\n",
              "32           Outlet_Type_1        inf\n",
              "33           Outlet_Type_2        inf\n",
              "34           Outlet_Type_3        inf"
            ]
          },
          "metadata": {
            "tags": []
          },
          "execution_count": 100
        }
      ]
    },
    {
      "cell_type": "code",
      "metadata": {
        "id": "2r58lURQlowS",
        "outputId": "01fac050-2929-4ad4-c8d1-3c3fb1ce196c",
        "colab": {
          "base_uri": "https://localhost:8080/",
          "height": 34
        }
      },
      "source": [
        "\"Heatmap not suggested\"\n",
        "'''corr = train_cp.corr()\n",
        "f,ax = plt.subplots(figsize=(20, 20))\n",
        "sns.heatmap(train_cp.corr(), annot=True, fmt= '.1f',ax=ax, cmap=\"BrBG\")\n",
        "sns.set(font_scale=1.25)\n",
        "plt.show()'''"
      ],
      "execution_count": 101,
      "outputs": [
        {
          "output_type": "execute_result",
          "data": {
            "application/vnd.google.colaboratory.intrinsic+json": {
              "type": "string"
            },
            "text/plain": [
              "'corr = train_cp.corr()\\nf,ax = plt.subplots(figsize=(20, 20))\\nsns.heatmap(train_cp.corr(), annot=True, fmt= \\'.1f\\',ax=ax, cmap=\"BrBG\")\\nsns.set(font_scale=1.25)\\nplt.show()'"
            ]
          },
          "metadata": {
            "tags": []
          },
          "execution_count": 101
        }
      ]
    },
    {
      "cell_type": "code",
      "metadata": {
        "id": "tZxN2QI_idB-"
      },
      "source": [
        "train_cp.drop(columns=['Outlet_Period', 'Item_Identifier_0', 'Item_Fat_Content_0', 'Item_Type_15', 'Outlet_Location_Type_1', 'Outlet_Type_2'], inplace=True)"
      ],
      "execution_count": 102,
      "outputs": []
    },
    {
      "cell_type": "code",
      "metadata": {
        "id": "I-slVB3hrsgI",
        "outputId": "424e5778-7d5e-4394-ece6-324e994118e6",
        "colab": {
          "base_uri": "https://localhost:8080/",
          "height": 938
        }
      },
      "source": [
        "# calculating VIF for each feature \n",
        "from statsmodels.stats.outliers_influence import variance_inflation_factor\n",
        "vif = [variance_inflation_factor(train_cp.values, i) for i in range(len(train_cp.columns))] \n",
        "vif_df= pd.DataFrame({'Features': train_cp.columns, 'VIF_value': vif})\n",
        "vif_df"
      ],
      "execution_count": 103,
      "outputs": [
        {
          "output_type": "execute_result",
          "data": {
            "text/html": [
              "<div>\n",
              "<style scoped>\n",
              "    .dataframe tbody tr th:only-of-type {\n",
              "        vertical-align: middle;\n",
              "    }\n",
              "\n",
              "    .dataframe tbody tr th {\n",
              "        vertical-align: top;\n",
              "    }\n",
              "\n",
              "    .dataframe thead th {\n",
              "        text-align: right;\n",
              "    }\n",
              "</style>\n",
              "<table border=\"1\" class=\"dataframe\">\n",
              "  <thead>\n",
              "    <tr style=\"text-align: right;\">\n",
              "      <th></th>\n",
              "      <th>Features</th>\n",
              "      <th>VIF_value</th>\n",
              "    </tr>\n",
              "  </thead>\n",
              "  <tbody>\n",
              "    <tr>\n",
              "      <th>0</th>\n",
              "      <td>Item_Weight</td>\n",
              "      <td>1.018266</td>\n",
              "    </tr>\n",
              "    <tr>\n",
              "      <th>1</th>\n",
              "      <td>Item_Visibility</td>\n",
              "      <td>1.104218</td>\n",
              "    </tr>\n",
              "    <tr>\n",
              "      <th>2</th>\n",
              "      <td>Item_MRP</td>\n",
              "      <td>1.017723</td>\n",
              "    </tr>\n",
              "    <tr>\n",
              "      <th>3</th>\n",
              "      <td>Item_Identifier_1</td>\n",
              "      <td>15.846177</td>\n",
              "    </tr>\n",
              "    <tr>\n",
              "      <th>4</th>\n",
              "      <td>Item_Identifier_2</td>\n",
              "      <td>inf</td>\n",
              "    </tr>\n",
              "    <tr>\n",
              "      <th>5</th>\n",
              "      <td>Item_Fat_Content_1</td>\n",
              "      <td>1.236781</td>\n",
              "    </tr>\n",
              "    <tr>\n",
              "      <th>6</th>\n",
              "      <td>Item_Type_0</td>\n",
              "      <td>4.989128</td>\n",
              "    </tr>\n",
              "    <tr>\n",
              "      <th>7</th>\n",
              "      <td>Item_Type_1</td>\n",
              "      <td>2.627117</td>\n",
              "    </tr>\n",
              "    <tr>\n",
              "      <th>8</th>\n",
              "      <td>Item_Type_2</td>\n",
              "      <td>1.725338</td>\n",
              "    </tr>\n",
              "    <tr>\n",
              "      <th>9</th>\n",
              "      <td>Item_Type_3</td>\n",
              "      <td>4.985856</td>\n",
              "    </tr>\n",
              "    <tr>\n",
              "      <th>10</th>\n",
              "      <td>Item_Type_4</td>\n",
              "      <td>5.403404</td>\n",
              "    </tr>\n",
              "    <tr>\n",
              "      <th>11</th>\n",
              "      <td>Item_Type_5</td>\n",
              "      <td>6.113655</td>\n",
              "    </tr>\n",
              "    <tr>\n",
              "      <th>12</th>\n",
              "      <td>Item_Type_6</td>\n",
              "      <td>7.983537</td>\n",
              "    </tr>\n",
              "    <tr>\n",
              "      <th>13</th>\n",
              "      <td>Item_Type_7</td>\n",
              "      <td>4.276859</td>\n",
              "    </tr>\n",
              "    <tr>\n",
              "      <th>14</th>\n",
              "      <td>Item_Type_8</td>\n",
              "      <td>inf</td>\n",
              "    </tr>\n",
              "    <tr>\n",
              "      <th>15</th>\n",
              "      <td>Item_Type_9</td>\n",
              "      <td>inf</td>\n",
              "    </tr>\n",
              "    <tr>\n",
              "      <th>16</th>\n",
              "      <td>Item_Type_10</td>\n",
              "      <td>3.694709</td>\n",
              "    </tr>\n",
              "    <tr>\n",
              "      <th>17</th>\n",
              "      <td>Item_Type_11</td>\n",
              "      <td>inf</td>\n",
              "    </tr>\n",
              "    <tr>\n",
              "      <th>18</th>\n",
              "      <td>Item_Type_12</td>\n",
              "      <td>1.423136</td>\n",
              "    </tr>\n",
              "    <tr>\n",
              "      <th>19</th>\n",
              "      <td>Item_Type_13</td>\n",
              "      <td>7.834898</td>\n",
              "    </tr>\n",
              "    <tr>\n",
              "      <th>20</th>\n",
              "      <td>Item_Type_14</td>\n",
              "      <td>7.622644</td>\n",
              "    </tr>\n",
              "    <tr>\n",
              "      <th>21</th>\n",
              "      <td>Outlet_Size_0</td>\n",
              "      <td>34.620977</td>\n",
              "    </tr>\n",
              "    <tr>\n",
              "      <th>22</th>\n",
              "      <td>Outlet_Size_1</td>\n",
              "      <td>66.177458</td>\n",
              "    </tr>\n",
              "    <tr>\n",
              "      <th>23</th>\n",
              "      <td>Outlet_Size_2</td>\n",
              "      <td>113.671566</td>\n",
              "    </tr>\n",
              "    <tr>\n",
              "      <th>24</th>\n",
              "      <td>Outlet_Location_Type_0</td>\n",
              "      <td>2.467976</td>\n",
              "    </tr>\n",
              "    <tr>\n",
              "      <th>25</th>\n",
              "      <td>Outlet_Location_Type_2</td>\n",
              "      <td>10.445313</td>\n",
              "    </tr>\n",
              "    <tr>\n",
              "      <th>26</th>\n",
              "      <td>Outlet_Type_0</td>\n",
              "      <td>4.832076</td>\n",
              "    </tr>\n",
              "    <tr>\n",
              "      <th>27</th>\n",
              "      <td>Outlet_Type_1</td>\n",
              "      <td>11.292851</td>\n",
              "    </tr>\n",
              "    <tr>\n",
              "      <th>28</th>\n",
              "      <td>Outlet_Type_3</td>\n",
              "      <td>1.788580</td>\n",
              "    </tr>\n",
              "  </tbody>\n",
              "</table>\n",
              "</div>"
            ],
            "text/plain": [
              "                  Features   VIF_value\n",
              "0              Item_Weight    1.018266\n",
              "1          Item_Visibility    1.104218\n",
              "2                 Item_MRP    1.017723\n",
              "3        Item_Identifier_1   15.846177\n",
              "4        Item_Identifier_2         inf\n",
              "5       Item_Fat_Content_1    1.236781\n",
              "6              Item_Type_0    4.989128\n",
              "7              Item_Type_1    2.627117\n",
              "8              Item_Type_2    1.725338\n",
              "9              Item_Type_3    4.985856\n",
              "10             Item_Type_4    5.403404\n",
              "11             Item_Type_5    6.113655\n",
              "12             Item_Type_6    7.983537\n",
              "13             Item_Type_7    4.276859\n",
              "14             Item_Type_8         inf\n",
              "15             Item_Type_9         inf\n",
              "16            Item_Type_10    3.694709\n",
              "17            Item_Type_11         inf\n",
              "18            Item_Type_12    1.423136\n",
              "19            Item_Type_13    7.834898\n",
              "20            Item_Type_14    7.622644\n",
              "21           Outlet_Size_0   34.620977\n",
              "22           Outlet_Size_1   66.177458\n",
              "23           Outlet_Size_2  113.671566\n",
              "24  Outlet_Location_Type_0    2.467976\n",
              "25  Outlet_Location_Type_2   10.445313\n",
              "26           Outlet_Type_0    4.832076\n",
              "27           Outlet_Type_1   11.292851\n",
              "28           Outlet_Type_3    1.788580"
            ]
          },
          "metadata": {
            "tags": []
          },
          "execution_count": 103
        }
      ]
    },
    {
      "cell_type": "code",
      "metadata": {
        "id": "bZqbFBpwwMmD"
      },
      "source": [
        "data.drop(columns=['Outlet_Period', 'Item_Identifier_0', 'Item_Fat_Content_0', 'Item_Type_15', 'Outlet_Location_Type_1', 'Outlet_Type_2'], inplace=True)"
      ],
      "execution_count": 104,
      "outputs": []
    },
    {
      "cell_type": "code",
      "metadata": {
        "id": "Lkl5NPsMYP_a"
      },
      "source": [
        "# Importing data DF to My drive\n",
        "#data.to_csv('/content/drive/My Drive/BigMart/BigMart.csv', index=False)"
      ],
      "execution_count": 105,
      "outputs": []
    },
    {
      "cell_type": "markdown",
      "metadata": {
        "id": "FJkNVdOB0xqD"
      },
      "source": [
        "# Begin with ML Training"
      ]
    },
    {
      "cell_type": "code",
      "metadata": {
        "id": "Q2qxOMGA0Phx",
        "outputId": "b393e455-badc-45ef-9f01-0a16a72adf39",
        "colab": {
          "base_uri": "https://localhost:8080/",
          "height": 34
        }
      },
      "source": [
        "'''# Mount your google drive to fetch the stored data\n",
        "from google.colab import drive\n",
        "drive.mount('/content/drive', force_remount=True)'''"
      ],
      "execution_count": 106,
      "outputs": [
        {
          "output_type": "execute_result",
          "data": {
            "application/vnd.google.colaboratory.intrinsic+json": {
              "type": "string"
            },
            "text/plain": [
              "\"# Mount your google drive to fetch the stored data\\nfrom google.colab import drive\\ndrive.mount('/content/drive', force_remount=True)\""
            ]
          },
          "metadata": {
            "tags": []
          },
          "execution_count": 106
        }
      ]
    },
    {
      "cell_type": "code",
      "metadata": {
        "id": "eHUmSPn-0bGM"
      },
      "source": [
        "#data = pd.read_csv('/content/drive/My Drive/BigMart/BigMart.csv')\n",
        "#print(data.shape)"
      ],
      "execution_count": 107,
      "outputs": []
    },
    {
      "cell_type": "code",
      "metadata": {
        "id": "YZOo_hxQDhgr",
        "outputId": "adb80388-6ed5-468c-c0fc-174832c111a3",
        "colab": {
          "base_uri": "https://localhost:8080/",
          "height": 34
        }
      },
      "source": [
        "# splitting the dataset into train and test\n",
        "\n",
        "train = data.iloc[:8523,:]\n",
        "test = data.iloc[8523:,:]\n",
        "print(train.shape, test.shape)"
      ],
      "execution_count": 108,
      "outputs": [
        {
          "output_type": "stream",
          "text": [
            "(8523, 30) (5681, 30)\n"
          ],
          "name": "stdout"
        }
      ]
    },
    {
      "cell_type": "code",
      "metadata": {
        "id": "NhyBz3QB6YoI",
        "outputId": "59d8ae93-cdf7-48ba-ef5d-dcbbb7f54ca3",
        "colab": {
          "base_uri": "https://localhost:8080/",
          "height": 222
        }
      },
      "source": [
        "train.head()"
      ],
      "execution_count": 109,
      "outputs": [
        {
          "output_type": "execute_result",
          "data": {
            "text/html": [
              "<div>\n",
              "<style scoped>\n",
              "    .dataframe tbody tr th:only-of-type {\n",
              "        vertical-align: middle;\n",
              "    }\n",
              "\n",
              "    .dataframe tbody tr th {\n",
              "        vertical-align: top;\n",
              "    }\n",
              "\n",
              "    .dataframe thead th {\n",
              "        text-align: right;\n",
              "    }\n",
              "</style>\n",
              "<table border=\"1\" class=\"dataframe\">\n",
              "  <thead>\n",
              "    <tr style=\"text-align: right;\">\n",
              "      <th></th>\n",
              "      <th>Item_Weight</th>\n",
              "      <th>Item_Visibility</th>\n",
              "      <th>Item_MRP</th>\n",
              "      <th>Item_Outlet_Sales</th>\n",
              "      <th>Item_Identifier_1</th>\n",
              "      <th>Item_Identifier_2</th>\n",
              "      <th>Item_Fat_Content_1</th>\n",
              "      <th>Item_Type_0</th>\n",
              "      <th>Item_Type_1</th>\n",
              "      <th>Item_Type_2</th>\n",
              "      <th>Item_Type_3</th>\n",
              "      <th>Item_Type_4</th>\n",
              "      <th>Item_Type_5</th>\n",
              "      <th>Item_Type_6</th>\n",
              "      <th>Item_Type_7</th>\n",
              "      <th>Item_Type_8</th>\n",
              "      <th>Item_Type_9</th>\n",
              "      <th>Item_Type_10</th>\n",
              "      <th>Item_Type_11</th>\n",
              "      <th>Item_Type_12</th>\n",
              "      <th>Item_Type_13</th>\n",
              "      <th>Item_Type_14</th>\n",
              "      <th>Outlet_Size_0</th>\n",
              "      <th>Outlet_Size_1</th>\n",
              "      <th>Outlet_Size_2</th>\n",
              "      <th>Outlet_Location_Type_0</th>\n",
              "      <th>Outlet_Location_Type_2</th>\n",
              "      <th>Outlet_Type_0</th>\n",
              "      <th>Outlet_Type_1</th>\n",
              "      <th>Outlet_Type_3</th>\n",
              "    </tr>\n",
              "  </thead>\n",
              "  <tbody>\n",
              "    <tr>\n",
              "      <th>0</th>\n",
              "      <td>9.30</td>\n",
              "      <td>0.016047</td>\n",
              "      <td>249.8092</td>\n",
              "      <td>3735.1380</td>\n",
              "      <td>1</td>\n",
              "      <td>0</td>\n",
              "      <td>0</td>\n",
              "      <td>0</td>\n",
              "      <td>0</td>\n",
              "      <td>0</td>\n",
              "      <td>0</td>\n",
              "      <td>1</td>\n",
              "      <td>0</td>\n",
              "      <td>0</td>\n",
              "      <td>0</td>\n",
              "      <td>0</td>\n",
              "      <td>0</td>\n",
              "      <td>0</td>\n",
              "      <td>0</td>\n",
              "      <td>0</td>\n",
              "      <td>0</td>\n",
              "      <td>0</td>\n",
              "      <td>0</td>\n",
              "      <td>1</td>\n",
              "      <td>0</td>\n",
              "      <td>1</td>\n",
              "      <td>0</td>\n",
              "      <td>0</td>\n",
              "      <td>1</td>\n",
              "      <td>0</td>\n",
              "    </tr>\n",
              "    <tr>\n",
              "      <th>1</th>\n",
              "      <td>5.92</td>\n",
              "      <td>0.019278</td>\n",
              "      <td>48.2692</td>\n",
              "      <td>443.4228</td>\n",
              "      <td>0</td>\n",
              "      <td>0</td>\n",
              "      <td>1</td>\n",
              "      <td>0</td>\n",
              "      <td>0</td>\n",
              "      <td>0</td>\n",
              "      <td>0</td>\n",
              "      <td>0</td>\n",
              "      <td>0</td>\n",
              "      <td>0</td>\n",
              "      <td>0</td>\n",
              "      <td>0</td>\n",
              "      <td>0</td>\n",
              "      <td>0</td>\n",
              "      <td>0</td>\n",
              "      <td>0</td>\n",
              "      <td>0</td>\n",
              "      <td>1</td>\n",
              "      <td>0</td>\n",
              "      <td>1</td>\n",
              "      <td>0</td>\n",
              "      <td>0</td>\n",
              "      <td>1</td>\n",
              "      <td>0</td>\n",
              "      <td>0</td>\n",
              "      <td>0</td>\n",
              "    </tr>\n",
              "    <tr>\n",
              "      <th>2</th>\n",
              "      <td>17.50</td>\n",
              "      <td>0.016760</td>\n",
              "      <td>141.6180</td>\n",
              "      <td>2097.2700</td>\n",
              "      <td>1</td>\n",
              "      <td>0</td>\n",
              "      <td>0</td>\n",
              "      <td>0</td>\n",
              "      <td>0</td>\n",
              "      <td>0</td>\n",
              "      <td>0</td>\n",
              "      <td>0</td>\n",
              "      <td>0</td>\n",
              "      <td>0</td>\n",
              "      <td>0</td>\n",
              "      <td>0</td>\n",
              "      <td>0</td>\n",
              "      <td>1</td>\n",
              "      <td>0</td>\n",
              "      <td>0</td>\n",
              "      <td>0</td>\n",
              "      <td>0</td>\n",
              "      <td>0</td>\n",
              "      <td>1</td>\n",
              "      <td>0</td>\n",
              "      <td>1</td>\n",
              "      <td>0</td>\n",
              "      <td>0</td>\n",
              "      <td>1</td>\n",
              "      <td>0</td>\n",
              "    </tr>\n",
              "    <tr>\n",
              "      <th>3</th>\n",
              "      <td>19.20</td>\n",
              "      <td>0.022930</td>\n",
              "      <td>182.0950</td>\n",
              "      <td>732.3800</td>\n",
              "      <td>1</td>\n",
              "      <td>0</td>\n",
              "      <td>1</td>\n",
              "      <td>0</td>\n",
              "      <td>0</td>\n",
              "      <td>0</td>\n",
              "      <td>0</td>\n",
              "      <td>0</td>\n",
              "      <td>0</td>\n",
              "      <td>1</td>\n",
              "      <td>0</td>\n",
              "      <td>0</td>\n",
              "      <td>0</td>\n",
              "      <td>0</td>\n",
              "      <td>0</td>\n",
              "      <td>0</td>\n",
              "      <td>0</td>\n",
              "      <td>0</td>\n",
              "      <td>0</td>\n",
              "      <td>0</td>\n",
              "      <td>1</td>\n",
              "      <td>0</td>\n",
              "      <td>1</td>\n",
              "      <td>1</td>\n",
              "      <td>0</td>\n",
              "      <td>0</td>\n",
              "    </tr>\n",
              "    <tr>\n",
              "      <th>4</th>\n",
              "      <td>8.93</td>\n",
              "      <td>0.014670</td>\n",
              "      <td>53.8614</td>\n",
              "      <td>994.7052</td>\n",
              "      <td>0</td>\n",
              "      <td>1</td>\n",
              "      <td>0</td>\n",
              "      <td>0</td>\n",
              "      <td>0</td>\n",
              "      <td>0</td>\n",
              "      <td>0</td>\n",
              "      <td>0</td>\n",
              "      <td>0</td>\n",
              "      <td>0</td>\n",
              "      <td>0</td>\n",
              "      <td>0</td>\n",
              "      <td>1</td>\n",
              "      <td>0</td>\n",
              "      <td>0</td>\n",
              "      <td>0</td>\n",
              "      <td>0</td>\n",
              "      <td>0</td>\n",
              "      <td>1</td>\n",
              "      <td>0</td>\n",
              "      <td>0</td>\n",
              "      <td>0</td>\n",
              "      <td>1</td>\n",
              "      <td>0</td>\n",
              "      <td>1</td>\n",
              "      <td>0</td>\n",
              "    </tr>\n",
              "  </tbody>\n",
              "</table>\n",
              "</div>"
            ],
            "text/plain": [
              "   Item_Weight  Item_Visibility  ...  Outlet_Type_1  Outlet_Type_3\n",
              "0         9.30         0.016047  ...              1              0\n",
              "1         5.92         0.019278  ...              0              0\n",
              "2        17.50         0.016760  ...              1              0\n",
              "3        19.20         0.022930  ...              0              0\n",
              "4         8.93         0.014670  ...              1              0\n",
              "\n",
              "[5 rows x 30 columns]"
            ]
          },
          "metadata": {
            "tags": []
          },
          "execution_count": 109
        }
      ]
    },
    {
      "cell_type": "code",
      "metadata": {
        "id": "rD1oyj2f7Ahy"
      },
      "source": [
        "# Importing data DF to My drive\n",
        "train.to_csv('/content/drive/My Drive/BigMart/train_xb.csv', index=False)"
      ],
      "execution_count": 110,
      "outputs": []
    },
    {
      "cell_type": "markdown",
      "metadata": {
        "id": "0nb_dlaQ7nbU"
      },
      "source": [
        "# Begin Test"
      ]
    },
    {
      "cell_type": "code",
      "metadata": {
        "id": "NrVDQkY17TmD",
        "outputId": "f127acec-225f-4e07-f26f-ea5d6568ee0b",
        "colab": {
          "base_uri": "https://localhost:8080/",
          "height": 222
        }
      },
      "source": [
        "train= pd.read_csv('/content/drive/My Drive/BigMart/train_xb.csv')\n",
        "train.head()"
      ],
      "execution_count": 180,
      "outputs": [
        {
          "output_type": "execute_result",
          "data": {
            "text/html": [
              "<div>\n",
              "<style scoped>\n",
              "    .dataframe tbody tr th:only-of-type {\n",
              "        vertical-align: middle;\n",
              "    }\n",
              "\n",
              "    .dataframe tbody tr th {\n",
              "        vertical-align: top;\n",
              "    }\n",
              "\n",
              "    .dataframe thead th {\n",
              "        text-align: right;\n",
              "    }\n",
              "</style>\n",
              "<table border=\"1\" class=\"dataframe\">\n",
              "  <thead>\n",
              "    <tr style=\"text-align: right;\">\n",
              "      <th></th>\n",
              "      <th>Item_Weight</th>\n",
              "      <th>Item_Visibility</th>\n",
              "      <th>Item_MRP</th>\n",
              "      <th>Item_Outlet_Sales</th>\n",
              "      <th>Item_Identifier_1</th>\n",
              "      <th>Item_Identifier_2</th>\n",
              "      <th>Item_Fat_Content_1</th>\n",
              "      <th>Item_Type_0</th>\n",
              "      <th>Item_Type_1</th>\n",
              "      <th>Item_Type_2</th>\n",
              "      <th>Item_Type_3</th>\n",
              "      <th>Item_Type_4</th>\n",
              "      <th>Item_Type_5</th>\n",
              "      <th>Item_Type_6</th>\n",
              "      <th>Item_Type_7</th>\n",
              "      <th>Item_Type_8</th>\n",
              "      <th>Item_Type_9</th>\n",
              "      <th>Item_Type_10</th>\n",
              "      <th>Item_Type_11</th>\n",
              "      <th>Item_Type_12</th>\n",
              "      <th>Item_Type_13</th>\n",
              "      <th>Item_Type_14</th>\n",
              "      <th>Outlet_Size_0</th>\n",
              "      <th>Outlet_Size_1</th>\n",
              "      <th>Outlet_Size_2</th>\n",
              "      <th>Outlet_Location_Type_0</th>\n",
              "      <th>Outlet_Location_Type_2</th>\n",
              "      <th>Outlet_Type_0</th>\n",
              "      <th>Outlet_Type_1</th>\n",
              "      <th>Outlet_Type_3</th>\n",
              "    </tr>\n",
              "  </thead>\n",
              "  <tbody>\n",
              "    <tr>\n",
              "      <th>0</th>\n",
              "      <td>9.30</td>\n",
              "      <td>0.016047</td>\n",
              "      <td>249.8092</td>\n",
              "      <td>3735.1380</td>\n",
              "      <td>1</td>\n",
              "      <td>0</td>\n",
              "      <td>0</td>\n",
              "      <td>0</td>\n",
              "      <td>0</td>\n",
              "      <td>0</td>\n",
              "      <td>0</td>\n",
              "      <td>1</td>\n",
              "      <td>0</td>\n",
              "      <td>0</td>\n",
              "      <td>0</td>\n",
              "      <td>0</td>\n",
              "      <td>0</td>\n",
              "      <td>0</td>\n",
              "      <td>0</td>\n",
              "      <td>0</td>\n",
              "      <td>0</td>\n",
              "      <td>0</td>\n",
              "      <td>0</td>\n",
              "      <td>1</td>\n",
              "      <td>0</td>\n",
              "      <td>1</td>\n",
              "      <td>0</td>\n",
              "      <td>0</td>\n",
              "      <td>1</td>\n",
              "      <td>0</td>\n",
              "    </tr>\n",
              "    <tr>\n",
              "      <th>1</th>\n",
              "      <td>5.92</td>\n",
              "      <td>0.019278</td>\n",
              "      <td>48.2692</td>\n",
              "      <td>443.4228</td>\n",
              "      <td>0</td>\n",
              "      <td>0</td>\n",
              "      <td>1</td>\n",
              "      <td>0</td>\n",
              "      <td>0</td>\n",
              "      <td>0</td>\n",
              "      <td>0</td>\n",
              "      <td>0</td>\n",
              "      <td>0</td>\n",
              "      <td>0</td>\n",
              "      <td>0</td>\n",
              "      <td>0</td>\n",
              "      <td>0</td>\n",
              "      <td>0</td>\n",
              "      <td>0</td>\n",
              "      <td>0</td>\n",
              "      <td>0</td>\n",
              "      <td>1</td>\n",
              "      <td>0</td>\n",
              "      <td>1</td>\n",
              "      <td>0</td>\n",
              "      <td>0</td>\n",
              "      <td>1</td>\n",
              "      <td>0</td>\n",
              "      <td>0</td>\n",
              "      <td>0</td>\n",
              "    </tr>\n",
              "    <tr>\n",
              "      <th>2</th>\n",
              "      <td>17.50</td>\n",
              "      <td>0.016760</td>\n",
              "      <td>141.6180</td>\n",
              "      <td>2097.2700</td>\n",
              "      <td>1</td>\n",
              "      <td>0</td>\n",
              "      <td>0</td>\n",
              "      <td>0</td>\n",
              "      <td>0</td>\n",
              "      <td>0</td>\n",
              "      <td>0</td>\n",
              "      <td>0</td>\n",
              "      <td>0</td>\n",
              "      <td>0</td>\n",
              "      <td>0</td>\n",
              "      <td>0</td>\n",
              "      <td>0</td>\n",
              "      <td>1</td>\n",
              "      <td>0</td>\n",
              "      <td>0</td>\n",
              "      <td>0</td>\n",
              "      <td>0</td>\n",
              "      <td>0</td>\n",
              "      <td>1</td>\n",
              "      <td>0</td>\n",
              "      <td>1</td>\n",
              "      <td>0</td>\n",
              "      <td>0</td>\n",
              "      <td>1</td>\n",
              "      <td>0</td>\n",
              "    </tr>\n",
              "    <tr>\n",
              "      <th>3</th>\n",
              "      <td>19.20</td>\n",
              "      <td>0.022930</td>\n",
              "      <td>182.0950</td>\n",
              "      <td>732.3800</td>\n",
              "      <td>1</td>\n",
              "      <td>0</td>\n",
              "      <td>1</td>\n",
              "      <td>0</td>\n",
              "      <td>0</td>\n",
              "      <td>0</td>\n",
              "      <td>0</td>\n",
              "      <td>0</td>\n",
              "      <td>0</td>\n",
              "      <td>1</td>\n",
              "      <td>0</td>\n",
              "      <td>0</td>\n",
              "      <td>0</td>\n",
              "      <td>0</td>\n",
              "      <td>0</td>\n",
              "      <td>0</td>\n",
              "      <td>0</td>\n",
              "      <td>0</td>\n",
              "      <td>0</td>\n",
              "      <td>0</td>\n",
              "      <td>1</td>\n",
              "      <td>0</td>\n",
              "      <td>1</td>\n",
              "      <td>1</td>\n",
              "      <td>0</td>\n",
              "      <td>0</td>\n",
              "    </tr>\n",
              "    <tr>\n",
              "      <th>4</th>\n",
              "      <td>8.93</td>\n",
              "      <td>0.014670</td>\n",
              "      <td>53.8614</td>\n",
              "      <td>994.7052</td>\n",
              "      <td>0</td>\n",
              "      <td>1</td>\n",
              "      <td>0</td>\n",
              "      <td>0</td>\n",
              "      <td>0</td>\n",
              "      <td>0</td>\n",
              "      <td>0</td>\n",
              "      <td>0</td>\n",
              "      <td>0</td>\n",
              "      <td>0</td>\n",
              "      <td>0</td>\n",
              "      <td>0</td>\n",
              "      <td>1</td>\n",
              "      <td>0</td>\n",
              "      <td>0</td>\n",
              "      <td>0</td>\n",
              "      <td>0</td>\n",
              "      <td>0</td>\n",
              "      <td>1</td>\n",
              "      <td>0</td>\n",
              "      <td>0</td>\n",
              "      <td>0</td>\n",
              "      <td>1</td>\n",
              "      <td>0</td>\n",
              "      <td>1</td>\n",
              "      <td>0</td>\n",
              "    </tr>\n",
              "  </tbody>\n",
              "</table>\n",
              "</div>"
            ],
            "text/plain": [
              "   Item_Weight  Item_Visibility  ...  Outlet_Type_1  Outlet_Type_3\n",
              "0         9.30         0.016047  ...              1              0\n",
              "1         5.92         0.019278  ...              0              0\n",
              "2        17.50         0.016760  ...              1              0\n",
              "3        19.20         0.022930  ...              0              0\n",
              "4         8.93         0.014670  ...              1              0\n",
              "\n",
              "[5 rows x 30 columns]"
            ]
          },
          "metadata": {
            "tags": []
          },
          "execution_count": 180
        }
      ]
    },
    {
      "cell_type": "markdown",
      "metadata": {
        "id": "POnuvjTnDgFc"
      },
      "source": [
        "# Feature Scaling"
      ]
    },
    {
      "cell_type": "code",
      "metadata": {
        "id": "XhqSAs_IIBAV",
        "outputId": "f3fd6922-e499-4513-aea4-31fa790af191",
        "colab": {
          "base_uri": "https://localhost:8080/",
          "height": 242
        }
      },
      "source": [
        "from sklearn import preprocessing\n",
        "scaler3 = preprocessing.StandardScaler()\n",
        "scaler2 = preprocessing.RobustScaler()\n",
        "scaler1 = preprocessing.MinMaxScaler()\n",
        "columns= [i for i in train.columns]\n",
        "scaled_df = scaler3.fit_transform(train)\n",
        "scaled_df"
      ],
      "execution_count": 181,
      "outputs": [
        {
          "output_type": "execute_result",
          "data": {
            "text/plain": [
              "array([[-0.76924555, -1.08810123,  1.74745381, ..., -0.38152918,\n",
              "         0.72680189, -0.35102831],\n",
              "       [-1.49681258, -1.02378856, -1.48902325, ..., -0.38152918,\n",
              "        -1.37589075, -0.35102831],\n",
              "       [ 0.9958579 , -1.07391317,  0.01004021, ..., -0.38152918,\n",
              "         0.72680189, -0.35102831],\n",
              "       ...,\n",
              "       [-0.48941207, -0.7071323 , -0.89720755, ..., -0.38152918,\n",
              "         0.72680189, -0.35102831],\n",
              "       [-1.21913167,  1.48314638, -0.60797692, ..., -0.38152918,\n",
              "        -1.37589075, -0.35102831],\n",
              "       [ 0.4146653 , -0.51420894, -1.05226104, ..., -0.38152918,\n",
              "         0.72680189, -0.35102831]])"
            ]
          },
          "metadata": {
            "tags": []
          },
          "execution_count": 181
        }
      ]
    },
    {
      "cell_type": "code",
      "metadata": {
        "id": "Cs7QvPF09ZuQ",
        "outputId": "baee79cc-342a-4d95-ccb0-3401521ee8f0",
        "colab": {
          "base_uri": "https://localhost:8080/",
          "height": 222
        }
      },
      "source": [
        "\n",
        "# preparee a df from n-D array\n",
        "train = pd.DataFrame(scaled_df, columns= columns)\n",
        "train.head()"
      ],
      "execution_count": 182,
      "outputs": [
        {
          "output_type": "execute_result",
          "data": {
            "text/html": [
              "<div>\n",
              "<style scoped>\n",
              "    .dataframe tbody tr th:only-of-type {\n",
              "        vertical-align: middle;\n",
              "    }\n",
              "\n",
              "    .dataframe tbody tr th {\n",
              "        vertical-align: top;\n",
              "    }\n",
              "\n",
              "    .dataframe thead th {\n",
              "        text-align: right;\n",
              "    }\n",
              "</style>\n",
              "<table border=\"1\" class=\"dataframe\">\n",
              "  <thead>\n",
              "    <tr style=\"text-align: right;\">\n",
              "      <th></th>\n",
              "      <th>Item_Weight</th>\n",
              "      <th>Item_Visibility</th>\n",
              "      <th>Item_MRP</th>\n",
              "      <th>Item_Outlet_Sales</th>\n",
              "      <th>Item_Identifier_1</th>\n",
              "      <th>Item_Identifier_2</th>\n",
              "      <th>Item_Fat_Content_1</th>\n",
              "      <th>Item_Type_0</th>\n",
              "      <th>Item_Type_1</th>\n",
              "      <th>Item_Type_2</th>\n",
              "      <th>Item_Type_3</th>\n",
              "      <th>Item_Type_4</th>\n",
              "      <th>Item_Type_5</th>\n",
              "      <th>Item_Type_6</th>\n",
              "      <th>Item_Type_7</th>\n",
              "      <th>Item_Type_8</th>\n",
              "      <th>Item_Type_9</th>\n",
              "      <th>Item_Type_10</th>\n",
              "      <th>Item_Type_11</th>\n",
              "      <th>Item_Type_12</th>\n",
              "      <th>Item_Type_13</th>\n",
              "      <th>Item_Type_14</th>\n",
              "      <th>Outlet_Size_0</th>\n",
              "      <th>Outlet_Size_1</th>\n",
              "      <th>Outlet_Size_2</th>\n",
              "      <th>Outlet_Location_Type_0</th>\n",
              "      <th>Outlet_Location_Type_2</th>\n",
              "      <th>Outlet_Type_0</th>\n",
              "      <th>Outlet_Type_1</th>\n",
              "      <th>Outlet_Type_3</th>\n",
              "    </tr>\n",
              "  </thead>\n",
              "  <tbody>\n",
              "    <tr>\n",
              "      <th>0</th>\n",
              "      <td>-0.769246</td>\n",
              "      <td>-1.088101</td>\n",
              "      <td>1.747454</td>\n",
              "      <td>0.910601</td>\n",
              "      <td>0.625708</td>\n",
              "      <td>-0.480558</td>\n",
              "      <td>-0.738147</td>\n",
              "      <td>-0.286855</td>\n",
              "      <td>-0.174193</td>\n",
              "      <td>-0.114346</td>\n",
              "      <td>-0.287094</td>\n",
              "      <td>3.390733</td>\n",
              "      <td>-0.334137</td>\n",
              "      <td>-0.411066</td>\n",
              "      <td>-0.160484</td>\n",
              "      <td>-0.254903</td>\n",
              "      <td>-0.345735</td>\n",
              "      <td>-0.229090</td>\n",
              "      <td>-0.142232</td>\n",
              "      <td>-0.086982</td>\n",
              "      <td>-0.404805</td>\n",
              "      <td>-0.234708</td>\n",
              "      <td>-0.350395</td>\n",
              "      <td>1.432326</td>\n",
              "      <td>-1.134925</td>\n",
              "      <td>1.602840</td>\n",
              "      <td>-0.804732</td>\n",
              "      <td>-0.381529</td>\n",
              "      <td>0.726802</td>\n",
              "      <td>-0.351028</td>\n",
              "    </tr>\n",
              "    <tr>\n",
              "      <th>1</th>\n",
              "      <td>-1.496813</td>\n",
              "      <td>-1.023789</td>\n",
              "      <td>-1.489023</td>\n",
              "      <td>-1.018440</td>\n",
              "      <td>-1.598190</td>\n",
              "      <td>-0.480558</td>\n",
              "      <td>1.354743</td>\n",
              "      <td>-0.286855</td>\n",
              "      <td>-0.174193</td>\n",
              "      <td>-0.114346</td>\n",
              "      <td>-0.287094</td>\n",
              "      <td>-0.294922</td>\n",
              "      <td>-0.334137</td>\n",
              "      <td>-0.411066</td>\n",
              "      <td>-0.160484</td>\n",
              "      <td>-0.254903</td>\n",
              "      <td>-0.345735</td>\n",
              "      <td>-0.229090</td>\n",
              "      <td>-0.142232</td>\n",
              "      <td>-0.086982</td>\n",
              "      <td>-0.404805</td>\n",
              "      <td>4.260611</td>\n",
              "      <td>-0.350395</td>\n",
              "      <td>1.432326</td>\n",
              "      <td>-1.134925</td>\n",
              "      <td>-0.623893</td>\n",
              "      <td>1.242650</td>\n",
              "      <td>-0.381529</td>\n",
              "      <td>-1.375891</td>\n",
              "      <td>-0.351028</td>\n",
              "    </tr>\n",
              "    <tr>\n",
              "      <th>2</th>\n",
              "      <td>0.995858</td>\n",
              "      <td>-1.073913</td>\n",
              "      <td>0.010040</td>\n",
              "      <td>-0.049238</td>\n",
              "      <td>0.625708</td>\n",
              "      <td>-0.480558</td>\n",
              "      <td>-0.738147</td>\n",
              "      <td>-0.286855</td>\n",
              "      <td>-0.174193</td>\n",
              "      <td>-0.114346</td>\n",
              "      <td>-0.287094</td>\n",
              "      <td>-0.294922</td>\n",
              "      <td>-0.334137</td>\n",
              "      <td>-0.411066</td>\n",
              "      <td>-0.160484</td>\n",
              "      <td>-0.254903</td>\n",
              "      <td>-0.345735</td>\n",
              "      <td>4.365102</td>\n",
              "      <td>-0.142232</td>\n",
              "      <td>-0.086982</td>\n",
              "      <td>-0.404805</td>\n",
              "      <td>-0.234708</td>\n",
              "      <td>-0.350395</td>\n",
              "      <td>1.432326</td>\n",
              "      <td>-1.134925</td>\n",
              "      <td>1.602840</td>\n",
              "      <td>-0.804732</td>\n",
              "      <td>-0.381529</td>\n",
              "      <td>0.726802</td>\n",
              "      <td>-0.351028</td>\n",
              "    </tr>\n",
              "    <tr>\n",
              "      <th>3</th>\n",
              "      <td>1.361794</td>\n",
              "      <td>-0.951101</td>\n",
              "      <td>0.660050</td>\n",
              "      <td>-0.849103</td>\n",
              "      <td>0.625708</td>\n",
              "      <td>-0.480558</td>\n",
              "      <td>1.354743</td>\n",
              "      <td>-0.286855</td>\n",
              "      <td>-0.174193</td>\n",
              "      <td>-0.114346</td>\n",
              "      <td>-0.287094</td>\n",
              "      <td>-0.294922</td>\n",
              "      <td>-0.334137</td>\n",
              "      <td>2.432698</td>\n",
              "      <td>-0.160484</td>\n",
              "      <td>-0.254903</td>\n",
              "      <td>-0.345735</td>\n",
              "      <td>-0.229090</td>\n",
              "      <td>-0.142232</td>\n",
              "      <td>-0.086982</td>\n",
              "      <td>-0.404805</td>\n",
              "      <td>-0.234708</td>\n",
              "      <td>-0.350395</td>\n",
              "      <td>-0.698165</td>\n",
              "      <td>0.881116</td>\n",
              "      <td>-0.623893</td>\n",
              "      <td>1.242650</td>\n",
              "      <td>2.621031</td>\n",
              "      <td>-1.375891</td>\n",
              "      <td>-0.351028</td>\n",
              "    </tr>\n",
              "    <tr>\n",
              "      <th>4</th>\n",
              "      <td>-0.848890</td>\n",
              "      <td>-1.115522</td>\n",
              "      <td>-1.399220</td>\n",
              "      <td>-0.695373</td>\n",
              "      <td>-1.598190</td>\n",
              "      <td>2.080915</td>\n",
              "      <td>-0.738147</td>\n",
              "      <td>-0.286855</td>\n",
              "      <td>-0.174193</td>\n",
              "      <td>-0.114346</td>\n",
              "      <td>-0.287094</td>\n",
              "      <td>-0.294922</td>\n",
              "      <td>-0.334137</td>\n",
              "      <td>-0.411066</td>\n",
              "      <td>-0.160484</td>\n",
              "      <td>-0.254903</td>\n",
              "      <td>2.892392</td>\n",
              "      <td>-0.229090</td>\n",
              "      <td>-0.142232</td>\n",
              "      <td>-0.086982</td>\n",
              "      <td>-0.404805</td>\n",
              "      <td>-0.234708</td>\n",
              "      <td>2.853918</td>\n",
              "      <td>-0.698165</td>\n",
              "      <td>-1.134925</td>\n",
              "      <td>-0.623893</td>\n",
              "      <td>1.242650</td>\n",
              "      <td>-0.381529</td>\n",
              "      <td>0.726802</td>\n",
              "      <td>-0.351028</td>\n",
              "    </tr>\n",
              "  </tbody>\n",
              "</table>\n",
              "</div>"
            ],
            "text/plain": [
              "   Item_Weight  Item_Visibility  ...  Outlet_Type_1  Outlet_Type_3\n",
              "0    -0.769246        -1.088101  ...       0.726802      -0.351028\n",
              "1    -1.496813        -1.023789  ...      -1.375891      -0.351028\n",
              "2     0.995858        -1.073913  ...       0.726802      -0.351028\n",
              "3     1.361794        -0.951101  ...      -1.375891      -0.351028\n",
              "4    -0.848890        -1.115522  ...       0.726802      -0.351028\n",
              "\n",
              "[5 rows x 30 columns]"
            ]
          },
          "metadata": {
            "tags": []
          },
          "execution_count": 182
        }
      ]
    },
    {
      "cell_type": "code",
      "metadata": {
        "id": "gcOl1l19IYXp",
        "outputId": "b9733ecb-0716-4a9a-84c0-3de2f7194d56",
        "colab": {
          "base_uri": "https://localhost:8080/",
          "height": 222
        }
      },
      "source": [
        "'''test.drop(columns=['Item_Outlet_Sales'], inplace=True)'''\n",
        "test.head()"
      ],
      "execution_count": 183,
      "outputs": [
        {
          "output_type": "execute_result",
          "data": {
            "text/html": [
              "<div>\n",
              "<style scoped>\n",
              "    .dataframe tbody tr th:only-of-type {\n",
              "        vertical-align: middle;\n",
              "    }\n",
              "\n",
              "    .dataframe tbody tr th {\n",
              "        vertical-align: top;\n",
              "    }\n",
              "\n",
              "    .dataframe thead th {\n",
              "        text-align: right;\n",
              "    }\n",
              "</style>\n",
              "<table border=\"1\" class=\"dataframe\">\n",
              "  <thead>\n",
              "    <tr style=\"text-align: right;\">\n",
              "      <th></th>\n",
              "      <th>Item_Weight</th>\n",
              "      <th>Item_Visibility</th>\n",
              "      <th>Item_MRP</th>\n",
              "      <th>Item_Identifier_1</th>\n",
              "      <th>Item_Identifier_2</th>\n",
              "      <th>Item_Fat_Content_1</th>\n",
              "      <th>Item_Type_0</th>\n",
              "      <th>Item_Type_1</th>\n",
              "      <th>Item_Type_2</th>\n",
              "      <th>Item_Type_3</th>\n",
              "      <th>Item_Type_4</th>\n",
              "      <th>Item_Type_5</th>\n",
              "      <th>Item_Type_6</th>\n",
              "      <th>Item_Type_7</th>\n",
              "      <th>Item_Type_8</th>\n",
              "      <th>Item_Type_9</th>\n",
              "      <th>Item_Type_10</th>\n",
              "      <th>Item_Type_11</th>\n",
              "      <th>Item_Type_12</th>\n",
              "      <th>Item_Type_13</th>\n",
              "      <th>Item_Type_14</th>\n",
              "      <th>Outlet_Size_0</th>\n",
              "      <th>Outlet_Size_1</th>\n",
              "      <th>Outlet_Size_2</th>\n",
              "      <th>Outlet_Location_Type_0</th>\n",
              "      <th>Outlet_Location_Type_2</th>\n",
              "      <th>Outlet_Type_0</th>\n",
              "      <th>Outlet_Type_1</th>\n",
              "      <th>Outlet_Type_3</th>\n",
              "    </tr>\n",
              "  </thead>\n",
              "  <tbody>\n",
              "    <tr>\n",
              "      <th>0</th>\n",
              "      <td>20.750</td>\n",
              "      <td>0.007565</td>\n",
              "      <td>107.8622</td>\n",
              "      <td>1</td>\n",
              "      <td>0</td>\n",
              "      <td>0</td>\n",
              "      <td>0</td>\n",
              "      <td>0</td>\n",
              "      <td>0</td>\n",
              "      <td>0</td>\n",
              "      <td>0</td>\n",
              "      <td>0</td>\n",
              "      <td>0</td>\n",
              "      <td>0</td>\n",
              "      <td>0</td>\n",
              "      <td>0</td>\n",
              "      <td>0</td>\n",
              "      <td>0</td>\n",
              "      <td>0</td>\n",
              "      <td>1</td>\n",
              "      <td>0</td>\n",
              "      <td>0</td>\n",
              "      <td>1</td>\n",
              "      <td>0</td>\n",
              "      <td>1</td>\n",
              "      <td>0</td>\n",
              "      <td>0</td>\n",
              "      <td>1</td>\n",
              "      <td>0</td>\n",
              "    </tr>\n",
              "    <tr>\n",
              "      <th>1</th>\n",
              "      <td>8.300</td>\n",
              "      <td>0.038428</td>\n",
              "      <td>87.3198</td>\n",
              "      <td>1</td>\n",
              "      <td>0</td>\n",
              "      <td>1</td>\n",
              "      <td>0</td>\n",
              "      <td>0</td>\n",
              "      <td>0</td>\n",
              "      <td>0</td>\n",
              "      <td>1</td>\n",
              "      <td>0</td>\n",
              "      <td>0</td>\n",
              "      <td>0</td>\n",
              "      <td>0</td>\n",
              "      <td>0</td>\n",
              "      <td>0</td>\n",
              "      <td>0</td>\n",
              "      <td>0</td>\n",
              "      <td>0</td>\n",
              "      <td>0</td>\n",
              "      <td>0</td>\n",
              "      <td>0</td>\n",
              "      <td>1</td>\n",
              "      <td>0</td>\n",
              "      <td>0</td>\n",
              "      <td>0</td>\n",
              "      <td>1</td>\n",
              "      <td>0</td>\n",
              "    </tr>\n",
              "    <tr>\n",
              "      <th>2</th>\n",
              "      <td>14.600</td>\n",
              "      <td>0.099575</td>\n",
              "      <td>241.7538</td>\n",
              "      <td>0</td>\n",
              "      <td>1</td>\n",
              "      <td>0</td>\n",
              "      <td>0</td>\n",
              "      <td>0</td>\n",
              "      <td>0</td>\n",
              "      <td>0</td>\n",
              "      <td>0</td>\n",
              "      <td>0</td>\n",
              "      <td>0</td>\n",
              "      <td>0</td>\n",
              "      <td>0</td>\n",
              "      <td>0</td>\n",
              "      <td>0</td>\n",
              "      <td>1</td>\n",
              "      <td>0</td>\n",
              "      <td>0</td>\n",
              "      <td>0</td>\n",
              "      <td>0</td>\n",
              "      <td>0</td>\n",
              "      <td>1</td>\n",
              "      <td>0</td>\n",
              "      <td>1</td>\n",
              "      <td>1</td>\n",
              "      <td>0</td>\n",
              "      <td>0</td>\n",
              "    </tr>\n",
              "    <tr>\n",
              "      <th>3</th>\n",
              "      <td>7.315</td>\n",
              "      <td>0.015388</td>\n",
              "      <td>155.0340</td>\n",
              "      <td>1</td>\n",
              "      <td>0</td>\n",
              "      <td>0</td>\n",
              "      <td>0</td>\n",
              "      <td>0</td>\n",
              "      <td>0</td>\n",
              "      <td>0</td>\n",
              "      <td>0</td>\n",
              "      <td>0</td>\n",
              "      <td>0</td>\n",
              "      <td>0</td>\n",
              "      <td>0</td>\n",
              "      <td>0</td>\n",
              "      <td>0</td>\n",
              "      <td>0</td>\n",
              "      <td>0</td>\n",
              "      <td>1</td>\n",
              "      <td>0</td>\n",
              "      <td>0</td>\n",
              "      <td>0</td>\n",
              "      <td>1</td>\n",
              "      <td>0</td>\n",
              "      <td>0</td>\n",
              "      <td>0</td>\n",
              "      <td>1</td>\n",
              "      <td>0</td>\n",
              "    </tr>\n",
              "    <tr>\n",
              "      <th>4</th>\n",
              "      <td>13.600</td>\n",
              "      <td>0.118599</td>\n",
              "      <td>234.2300</td>\n",
              "      <td>1</td>\n",
              "      <td>0</td>\n",
              "      <td>1</td>\n",
              "      <td>0</td>\n",
              "      <td>0</td>\n",
              "      <td>0</td>\n",
              "      <td>0</td>\n",
              "      <td>1</td>\n",
              "      <td>0</td>\n",
              "      <td>0</td>\n",
              "      <td>0</td>\n",
              "      <td>0</td>\n",
              "      <td>0</td>\n",
              "      <td>0</td>\n",
              "      <td>0</td>\n",
              "      <td>0</td>\n",
              "      <td>0</td>\n",
              "      <td>0</td>\n",
              "      <td>0</td>\n",
              "      <td>1</td>\n",
              "      <td>0</td>\n",
              "      <td>0</td>\n",
              "      <td>1</td>\n",
              "      <td>0</td>\n",
              "      <td>0</td>\n",
              "      <td>1</td>\n",
              "    </tr>\n",
              "  </tbody>\n",
              "</table>\n",
              "</div>"
            ],
            "text/plain": [
              "   Item_Weight  Item_Visibility  ...  Outlet_Type_1  Outlet_Type_3\n",
              "0       20.750         0.007565  ...              1              0\n",
              "1        8.300         0.038428  ...              1              0\n",
              "2       14.600         0.099575  ...              0              0\n",
              "3        7.315         0.015388  ...              1              0\n",
              "4       13.600         0.118599  ...              0              1\n",
              "\n",
              "[5 rows x 29 columns]"
            ]
          },
          "metadata": {
            "tags": []
          },
          "execution_count": 183
        }
      ]
    },
    {
      "cell_type": "code",
      "metadata": {
        "id": "DFX-5Q6fIbvO",
        "outputId": "865113fe-93cb-49cf-e04e-9d7c929ade04",
        "colab": {
          "base_uri": "https://localhost:8080/",
          "height": 34
        }
      },
      "source": [
        "'''sample= pd.read_csv('/content/drive/My Drive/BigMart/sample_submission_v9.csv')\n",
        "sample.head()'''"
      ],
      "execution_count": 184,
      "outputs": [
        {
          "output_type": "execute_result",
          "data": {
            "application/vnd.google.colaboratory.intrinsic+json": {
              "type": "string"
            },
            "text/plain": [
              "\"sample= pd.read_csv('/content/drive/My Drive/BigMart/sample_submission_v9.csv')\\nsample.head()\""
            ]
          },
          "metadata": {
            "tags": []
          },
          "execution_count": 184
        }
      ]
    },
    {
      "cell_type": "code",
      "metadata": {
        "id": "vd7uYvn6QrMh"
      },
      "source": [
        "from sklearn.model_selection import train_test_split\n",
        "X= train.drop(columns=['Item_Outlet_Sales'])\n",
        "y= train['Item_Outlet_Sales']\n",
        "# 42 is the answer to life, universe and everything!\n",
        "X_train, X_test, y_train, y_test = train_test_split(X, y, test_size = 0.25, random_state=42)"
      ],
      "execution_count": 185,
      "outputs": []
    },
    {
      "cell_type": "code",
      "metadata": {
        "id": "4_XWenaRTUSA"
      },
      "source": [
        "from math import sqrt\n",
        "from sklearn.metrics import r2_score\n",
        "from sklearn.metrics import mean_absolute_error\n",
        "from sklearn.metrics import mean_squared_error"
      ],
      "execution_count": 186,
      "outputs": []
    },
    {
      "cell_type": "code",
      "metadata": {
        "id": "WxUbb7296IRG",
        "outputId": "85d168f3-6511-4f5f-ff22-bf25e5057e25",
        "colab": {
          "base_uri": "https://localhost:8080/",
          "height": 34
        }
      },
      "source": [
        "'''from sklearn.model_selection import KFold\n",
        "kf = KFold(n_splits=3)\n",
        "\n",
        "from sklearn.model_selection import StratifiedKFold\n",
        "cv = StratifiedKFold(n_splits=5, random_state=None)\n",
        "print(kf, \"&&\", cv)'''"
      ],
      "execution_count": 187,
      "outputs": [
        {
          "output_type": "execute_result",
          "data": {
            "application/vnd.google.colaboratory.intrinsic+json": {
              "type": "string"
            },
            "text/plain": [
              "'from sklearn.model_selection import KFold\\nkf = KFold(n_splits=3)\\n\\nfrom sklearn.model_selection import StratifiedKFold\\ncv = StratifiedKFold(n_splits=5, random_state=None)\\nprint(kf, \"&&\", cv)'"
            ]
          },
          "metadata": {
            "tags": []
          },
          "execution_count": 187
        }
      ]
    },
    {
      "cell_type": "markdown",
      "metadata": {
        "id": "uaNkCTppWM_b"
      },
      "source": [
        "# Predicting the Item_Outlet_Sales for Test file"
      ]
    },
    {
      "cell_type": "code",
      "metadata": {
        "id": "h0tx4v6VWW0S",
        "outputId": "28ec7f6d-a5e8-45b0-fd3a-e281977f7029",
        "colab": {
          "base_uri": "https://localhost:8080/",
          "height": 222
        }
      },
      "source": [
        "test.head()"
      ],
      "execution_count": 188,
      "outputs": [
        {
          "output_type": "execute_result",
          "data": {
            "text/html": [
              "<div>\n",
              "<style scoped>\n",
              "    .dataframe tbody tr th:only-of-type {\n",
              "        vertical-align: middle;\n",
              "    }\n",
              "\n",
              "    .dataframe tbody tr th {\n",
              "        vertical-align: top;\n",
              "    }\n",
              "\n",
              "    .dataframe thead th {\n",
              "        text-align: right;\n",
              "    }\n",
              "</style>\n",
              "<table border=\"1\" class=\"dataframe\">\n",
              "  <thead>\n",
              "    <tr style=\"text-align: right;\">\n",
              "      <th></th>\n",
              "      <th>Item_Weight</th>\n",
              "      <th>Item_Visibility</th>\n",
              "      <th>Item_MRP</th>\n",
              "      <th>Item_Identifier_1</th>\n",
              "      <th>Item_Identifier_2</th>\n",
              "      <th>Item_Fat_Content_1</th>\n",
              "      <th>Item_Type_0</th>\n",
              "      <th>Item_Type_1</th>\n",
              "      <th>Item_Type_2</th>\n",
              "      <th>Item_Type_3</th>\n",
              "      <th>Item_Type_4</th>\n",
              "      <th>Item_Type_5</th>\n",
              "      <th>Item_Type_6</th>\n",
              "      <th>Item_Type_7</th>\n",
              "      <th>Item_Type_8</th>\n",
              "      <th>Item_Type_9</th>\n",
              "      <th>Item_Type_10</th>\n",
              "      <th>Item_Type_11</th>\n",
              "      <th>Item_Type_12</th>\n",
              "      <th>Item_Type_13</th>\n",
              "      <th>Item_Type_14</th>\n",
              "      <th>Outlet_Size_0</th>\n",
              "      <th>Outlet_Size_1</th>\n",
              "      <th>Outlet_Size_2</th>\n",
              "      <th>Outlet_Location_Type_0</th>\n",
              "      <th>Outlet_Location_Type_2</th>\n",
              "      <th>Outlet_Type_0</th>\n",
              "      <th>Outlet_Type_1</th>\n",
              "      <th>Outlet_Type_3</th>\n",
              "    </tr>\n",
              "  </thead>\n",
              "  <tbody>\n",
              "    <tr>\n",
              "      <th>0</th>\n",
              "      <td>20.750</td>\n",
              "      <td>0.007565</td>\n",
              "      <td>107.8622</td>\n",
              "      <td>1</td>\n",
              "      <td>0</td>\n",
              "      <td>0</td>\n",
              "      <td>0</td>\n",
              "      <td>0</td>\n",
              "      <td>0</td>\n",
              "      <td>0</td>\n",
              "      <td>0</td>\n",
              "      <td>0</td>\n",
              "      <td>0</td>\n",
              "      <td>0</td>\n",
              "      <td>0</td>\n",
              "      <td>0</td>\n",
              "      <td>0</td>\n",
              "      <td>0</td>\n",
              "      <td>0</td>\n",
              "      <td>1</td>\n",
              "      <td>0</td>\n",
              "      <td>0</td>\n",
              "      <td>1</td>\n",
              "      <td>0</td>\n",
              "      <td>1</td>\n",
              "      <td>0</td>\n",
              "      <td>0</td>\n",
              "      <td>1</td>\n",
              "      <td>0</td>\n",
              "    </tr>\n",
              "    <tr>\n",
              "      <th>1</th>\n",
              "      <td>8.300</td>\n",
              "      <td>0.038428</td>\n",
              "      <td>87.3198</td>\n",
              "      <td>1</td>\n",
              "      <td>0</td>\n",
              "      <td>1</td>\n",
              "      <td>0</td>\n",
              "      <td>0</td>\n",
              "      <td>0</td>\n",
              "      <td>0</td>\n",
              "      <td>1</td>\n",
              "      <td>0</td>\n",
              "      <td>0</td>\n",
              "      <td>0</td>\n",
              "      <td>0</td>\n",
              "      <td>0</td>\n",
              "      <td>0</td>\n",
              "      <td>0</td>\n",
              "      <td>0</td>\n",
              "      <td>0</td>\n",
              "      <td>0</td>\n",
              "      <td>0</td>\n",
              "      <td>0</td>\n",
              "      <td>1</td>\n",
              "      <td>0</td>\n",
              "      <td>0</td>\n",
              "      <td>0</td>\n",
              "      <td>1</td>\n",
              "      <td>0</td>\n",
              "    </tr>\n",
              "    <tr>\n",
              "      <th>2</th>\n",
              "      <td>14.600</td>\n",
              "      <td>0.099575</td>\n",
              "      <td>241.7538</td>\n",
              "      <td>0</td>\n",
              "      <td>1</td>\n",
              "      <td>0</td>\n",
              "      <td>0</td>\n",
              "      <td>0</td>\n",
              "      <td>0</td>\n",
              "      <td>0</td>\n",
              "      <td>0</td>\n",
              "      <td>0</td>\n",
              "      <td>0</td>\n",
              "      <td>0</td>\n",
              "      <td>0</td>\n",
              "      <td>0</td>\n",
              "      <td>0</td>\n",
              "      <td>1</td>\n",
              "      <td>0</td>\n",
              "      <td>0</td>\n",
              "      <td>0</td>\n",
              "      <td>0</td>\n",
              "      <td>0</td>\n",
              "      <td>1</td>\n",
              "      <td>0</td>\n",
              "      <td>1</td>\n",
              "      <td>1</td>\n",
              "      <td>0</td>\n",
              "      <td>0</td>\n",
              "    </tr>\n",
              "    <tr>\n",
              "      <th>3</th>\n",
              "      <td>7.315</td>\n",
              "      <td>0.015388</td>\n",
              "      <td>155.0340</td>\n",
              "      <td>1</td>\n",
              "      <td>0</td>\n",
              "      <td>0</td>\n",
              "      <td>0</td>\n",
              "      <td>0</td>\n",
              "      <td>0</td>\n",
              "      <td>0</td>\n",
              "      <td>0</td>\n",
              "      <td>0</td>\n",
              "      <td>0</td>\n",
              "      <td>0</td>\n",
              "      <td>0</td>\n",
              "      <td>0</td>\n",
              "      <td>0</td>\n",
              "      <td>0</td>\n",
              "      <td>0</td>\n",
              "      <td>1</td>\n",
              "      <td>0</td>\n",
              "      <td>0</td>\n",
              "      <td>0</td>\n",
              "      <td>1</td>\n",
              "      <td>0</td>\n",
              "      <td>0</td>\n",
              "      <td>0</td>\n",
              "      <td>1</td>\n",
              "      <td>0</td>\n",
              "    </tr>\n",
              "    <tr>\n",
              "      <th>4</th>\n",
              "      <td>13.600</td>\n",
              "      <td>0.118599</td>\n",
              "      <td>234.2300</td>\n",
              "      <td>1</td>\n",
              "      <td>0</td>\n",
              "      <td>1</td>\n",
              "      <td>0</td>\n",
              "      <td>0</td>\n",
              "      <td>0</td>\n",
              "      <td>0</td>\n",
              "      <td>1</td>\n",
              "      <td>0</td>\n",
              "      <td>0</td>\n",
              "      <td>0</td>\n",
              "      <td>0</td>\n",
              "      <td>0</td>\n",
              "      <td>0</td>\n",
              "      <td>0</td>\n",
              "      <td>0</td>\n",
              "      <td>0</td>\n",
              "      <td>0</td>\n",
              "      <td>0</td>\n",
              "      <td>1</td>\n",
              "      <td>0</td>\n",
              "      <td>0</td>\n",
              "      <td>1</td>\n",
              "      <td>0</td>\n",
              "      <td>0</td>\n",
              "      <td>1</td>\n",
              "    </tr>\n",
              "  </tbody>\n",
              "</table>\n",
              "</div>"
            ],
            "text/plain": [
              "   Item_Weight  Item_Visibility  ...  Outlet_Type_1  Outlet_Type_3\n",
              "0       20.750         0.007565  ...              1              0\n",
              "1        8.300         0.038428  ...              1              0\n",
              "2       14.600         0.099575  ...              0              0\n",
              "3        7.315         0.015388  ...              1              0\n",
              "4       13.600         0.118599  ...              0              1\n",
              "\n",
              "[5 rows x 29 columns]"
            ]
          },
          "metadata": {
            "tags": []
          },
          "execution_count": 188
        }
      ]
    },
    {
      "cell_type": "code",
      "metadata": {
        "id": "sUBSs_aNY_3Z"
      },
      "source": [
        "# Importing data DF to My drive\n",
        "#df.to_csv('/content/drive/My Drive/BigMart/BigMart_prediction.csv', index=False)"
      ],
      "execution_count": 189,
      "outputs": []
    },
    {
      "cell_type": "code",
      "metadata": {
        "id": "p8os9r_sZABV"
      },
      "source": [
        "#BigMart_prediction= pd.read_csv('/content/drive/My Drive/BigMart/BigMart_prediction.csv')\n",
        "#BigMart_prediction.head()"
      ],
      "execution_count": 190,
      "outputs": []
    },
    {
      "cell_type": "markdown",
      "metadata": {
        "id": "J2AeJKOQfylj"
      },
      "source": [
        "# Using XG Boost"
      ]
    },
    {
      "cell_type": "code",
      "metadata": {
        "id": "ZtpdxknZY_7T",
        "outputId": "a7340f1f-1f99-4351-a272-f65c5fb4132a",
        "colab": {
          "base_uri": "https://localhost:8080/",
          "height": 537
        }
      },
      "source": [
        "from sklearn.model_selection import RandomizedSearchCV\n",
        "from xgboost.sklearn import XGBRegressor \n",
        "\n",
        "xg=XGBRegressor()\n",
        "\n",
        "params_ = {\n",
        "     'n_estimators': [i for i in range(1,20)],\n",
        "    'max_depth': [i for i in range(1, 16)],\n",
        "    'gamma': [0, 0.1, 0.2, 0.3, 0.4, 0.5, 0.75, 1],\n",
        "    'learning_rate': [0.25, 0.5, 0.75, 1], \n",
        "}\n",
        "xg_search = RandomizedSearchCV(estimator=xg, param_distributions=params_, n_iter = 50, \n",
        "                                cv = 5, verbose=2, random_state=42, n_jobs=-1, return_train_score=True)           \n",
        "xg_search.fit(X_train, y_train)"
      ],
      "execution_count": 191,
      "outputs": [
        {
          "output_type": "stream",
          "text": [
            "Fitting 5 folds for each of 50 candidates, totalling 250 fits\n"
          ],
          "name": "stdout"
        },
        {
          "output_type": "stream",
          "text": [
            "[Parallel(n_jobs=-1)]: Using backend LokyBackend with 2 concurrent workers.\n",
            "[Parallel(n_jobs=-1)]: Done  37 tasks      | elapsed:    5.8s\n",
            "[Parallel(n_jobs=-1)]: Done 158 tasks      | elapsed:   23.7s\n"
          ],
          "name": "stderr"
        },
        {
          "output_type": "stream",
          "text": [
            "[17:25:27] WARNING: /workspace/src/objective/regression_obj.cu:152: reg:linear is now deprecated in favor of reg:squarederror.\n"
          ],
          "name": "stdout"
        },
        {
          "output_type": "stream",
          "text": [
            "[Parallel(n_jobs=-1)]: Done 250 out of 250 | elapsed:   38.5s finished\n"
          ],
          "name": "stderr"
        },
        {
          "output_type": "execute_result",
          "data": {
            "text/plain": [
              "RandomizedSearchCV(cv=5, error_score=nan,\n",
              "                   estimator=XGBRegressor(base_score=0.5, booster='gbtree',\n",
              "                                          colsample_bylevel=1,\n",
              "                                          colsample_bynode=1,\n",
              "                                          colsample_bytree=1, gamma=0,\n",
              "                                          importance_type='gain',\n",
              "                                          learning_rate=0.1, max_delta_step=0,\n",
              "                                          max_depth=3, min_child_weight=1,\n",
              "                                          missing=None, n_estimators=100,\n",
              "                                          n_jobs=1, nthread=None,\n",
              "                                          objective='reg:linear',\n",
              "                                          random_state=0, reg_alpha=...\n",
              "                                          verbosity=1),\n",
              "                   iid='deprecated', n_iter=50, n_jobs=-1,\n",
              "                   param_distributions={'gamma': [0, 0.1, 0.2, 0.3, 0.4, 0.5,\n",
              "                                                  0.75, 1],\n",
              "                                        'learning_rate': [0.25, 0.5, 0.75, 1],\n",
              "                                        'max_depth': [1, 2, 3, 4, 5, 6, 7, 8, 9,\n",
              "                                                      10, 11, 12, 13, 14, 15],\n",
              "                                        'n_estimators': [1, 2, 3, 4, 5, 6, 7, 8,\n",
              "                                                         9, 10, 11, 12, 13, 14,\n",
              "                                                         15, 16, 17, 18, 19]},\n",
              "                   pre_dispatch='2*n_jobs', random_state=42, refit=True,\n",
              "                   return_train_score=True, scoring=None, verbose=2)"
            ]
          },
          "metadata": {
            "tags": []
          },
          "execution_count": 191
        }
      ]
    },
    {
      "cell_type": "code",
      "metadata": {
        "id": "azcAp04dMBAY",
        "outputId": "1481a3a4-ee70-490d-dce1-14e7f6789229",
        "colab": {
          "base_uri": "https://localhost:8080/",
          "height": 69
        }
      },
      "source": [
        "'''from sklearn.model_selection import GridSearchCV\n",
        "from xgboost.sklearn import XGBRegressor \n",
        "\n",
        "xg=XGBRegressor()\n",
        "\n",
        "params_ = {\n",
        "     'n_estimators': [i for i in range(1,20)],\n",
        "    'max_depth': [i for i in range(1, 16)],\n",
        "    'gamma': [0, 0.1, 0.2, 0.3, 0.4, 0.5, 0.75, 1],\n",
        "    'learning_rate': [0.25, 0.5, 0.75, 1], \n",
        "}\n",
        "xg_search =GridSearchCV(estimator=xg, param_grid=params_, \n",
        "                                cv = 5, verbose=2,n_jobs=-1, return_train_score=True)           \n",
        "xg_search.fit(X_train, y_train)'''"
      ],
      "execution_count": 192,
      "outputs": [
        {
          "output_type": "execute_result",
          "data": {
            "application/vnd.google.colaboratory.intrinsic+json": {
              "type": "string"
            },
            "text/plain": [
              "\"from sklearn.model_selection import GridSearchCV\\nfrom xgboost.sklearn import XGBRegressor \\n\\nxg=XGBRegressor()\\n\\nparams_ = {\\n     'n_estimators': [i for i in range(1,20)],\\n    'max_depth': [i for i in range(1, 16)],\\n    'gamma': [0, 0.1, 0.2, 0.3, 0.4, 0.5, 0.75, 1],\\n    'learning_rate': [0.25, 0.5, 0.75, 1], \\n}\\nxg_search =GridSearchCV(estimator=xg, param_grid=params_, \\n                                cv = 5, verbose=2,n_jobs=-1, return_train_score=True)           \\nxg_search.fit(X_train, y_train)\""
            ]
          },
          "metadata": {
            "tags": []
          },
          "execution_count": 192
        }
      ]
    },
    {
      "cell_type": "code",
      "metadata": {
        "id": "4OAstl6uY-jL",
        "outputId": "a0d5ebd0-0ab5-4a90-e0dd-56c6a19d60cb",
        "colab": {
          "base_uri": "https://localhost:8080/",
          "height": 34
        }
      },
      "source": [
        "xg_search.best_params_"
      ],
      "execution_count": 193,
      "outputs": [
        {
          "output_type": "execute_result",
          "data": {
            "text/plain": [
              "{'gamma': 0.5, 'learning_rate': 0.25, 'max_depth': 2, 'n_estimators': 16}"
            ]
          },
          "metadata": {
            "tags": []
          },
          "execution_count": 193
        }
      ]
    },
    {
      "cell_type": "code",
      "metadata": {
        "id": "rAErHnV7Y-ZC"
      },
      "source": [
        "predicted_= xg_search.predict(X_test)"
      ],
      "execution_count": 194,
      "outputs": []
    },
    {
      "cell_type": "code",
      "metadata": {
        "id": "zh-K6ytssLna",
        "outputId": "8ed49152-a0d4-44fe-8137-cf82c3bd4c47",
        "colab": {
          "base_uri": "https://localhost:8080/",
          "height": 34
        }
      },
      "source": [
        "print ('Root MSE =',sqrt(mean_squared_error(y_test, predicted_)) )"
      ],
      "execution_count": 195,
      "outputs": [
        {
          "output_type": "stream",
          "text": [
            "Root MSE = 0.6155349300500932\n"
          ],
          "name": "stdout"
        }
      ]
    },
    {
      "cell_type": "code",
      "metadata": {
        "id": "-MVajq65nvhJ",
        "outputId": "89253312-1451-444c-97bd-0d70d8b447a4",
        "colab": {
          "base_uri": "https://localhost:8080/",
          "height": 34
        }
      },
      "source": [
        "xg_search.best_score_         "
      ],
      "execution_count": 196,
      "outputs": [
        {
          "output_type": "execute_result",
          "data": {
            "text/plain": [
              "0.5928722456077435"
            ]
          },
          "metadata": {
            "tags": []
          },
          "execution_count": 196
        }
      ]
    },
    {
      "cell_type": "code",
      "metadata": {
        "id": "ULidGlKMp5_r"
      },
      "source": [
        "predicted_xg= xg_search.predict(test)"
      ],
      "execution_count": 197,
      "outputs": []
    },
    {
      "cell_type": "code",
      "metadata": {
        "id": "4i43_Mq715bV"
      },
      "source": [
        "Col_Item_Identifier_ =Col_Item_Identifier[8523:] \n",
        "Col_Outlet_Identifier_ =Col_Outlet_Identifier[8523:]"
      ],
      "execution_count": 198,
      "outputs": []
    },
    {
      "cell_type": "code",
      "metadata": {
        "id": "pzwWfix8nvkj",
        "outputId": "fdd89213-078c-479c-911d-84acaab9ff5e",
        "colab": {
          "base_uri": "https://localhost:8080/",
          "height": 202
        }
      },
      "source": [
        "df_xg= pd.DataFrame({'Item_Identifier':Col_Item_Identifier_, 'Outlet_Identifier':Col_Outlet_Identifier_, 'Item_Outlet_Sales': predicted_xg})\n",
        "df_xg.head()"
      ],
      "execution_count": 199,
      "outputs": [
        {
          "output_type": "execute_result",
          "data": {
            "text/html": [
              "<div>\n",
              "<style scoped>\n",
              "    .dataframe tbody tr th:only-of-type {\n",
              "        vertical-align: middle;\n",
              "    }\n",
              "\n",
              "    .dataframe tbody tr th {\n",
              "        vertical-align: top;\n",
              "    }\n",
              "\n",
              "    .dataframe thead th {\n",
              "        text-align: right;\n",
              "    }\n",
              "</style>\n",
              "<table border=\"1\" class=\"dataframe\">\n",
              "  <thead>\n",
              "    <tr style=\"text-align: right;\">\n",
              "      <th></th>\n",
              "      <th>Item_Identifier</th>\n",
              "      <th>Outlet_Identifier</th>\n",
              "      <th>Item_Outlet_Sales</th>\n",
              "    </tr>\n",
              "  </thead>\n",
              "  <tbody>\n",
              "    <tr>\n",
              "      <th>0</th>\n",
              "      <td>FDW58</td>\n",
              "      <td>OUT049</td>\n",
              "      <td>0.991066</td>\n",
              "    </tr>\n",
              "    <tr>\n",
              "      <th>1</th>\n",
              "      <td>FDW14</td>\n",
              "      <td>OUT017</td>\n",
              "      <td>0.991066</td>\n",
              "    </tr>\n",
              "    <tr>\n",
              "      <th>2</th>\n",
              "      <td>NCN55</td>\n",
              "      <td>OUT010</td>\n",
              "      <td>0.991066</td>\n",
              "    </tr>\n",
              "    <tr>\n",
              "      <th>3</th>\n",
              "      <td>FDQ58</td>\n",
              "      <td>OUT017</td>\n",
              "      <td>0.991066</td>\n",
              "    </tr>\n",
              "    <tr>\n",
              "      <th>4</th>\n",
              "      <td>FDY38</td>\n",
              "      <td>OUT027</td>\n",
              "      <td>0.991066</td>\n",
              "    </tr>\n",
              "  </tbody>\n",
              "</table>\n",
              "</div>"
            ],
            "text/plain": [
              "  Item_Identifier Outlet_Identifier  Item_Outlet_Sales\n",
              "0           FDW58            OUT049           0.991066\n",
              "1           FDW14            OUT017           0.991066\n",
              "2           NCN55            OUT010           0.991066\n",
              "3           FDQ58            OUT017           0.991066\n",
              "4           FDY38            OUT027           0.991066"
            ]
          },
          "metadata": {
            "tags": []
          },
          "execution_count": 199
        }
      ]
    },
    {
      "cell_type": "code",
      "metadata": {
        "id": "HESobSHlxFQo",
        "outputId": "8bd22ade-3a5d-4f7f-8b3c-5a8c60cb3665",
        "colab": {
          "base_uri": "https://localhost:8080/",
          "height": 34
        }
      },
      "source": [
        "df_xg[df_xg['Item_Outlet_Sales']<0].shape[0]"
      ],
      "execution_count": 200,
      "outputs": [
        {
          "output_type": "execute_result",
          "data": {
            "text/plain": [
              "0"
            ]
          },
          "metadata": {
            "tags": []
          },
          "execution_count": 200
        }
      ]
    },
    {
      "cell_type": "code",
      "metadata": {
        "id": "Be8lW0aMyLT4",
        "outputId": "c882e422-5f3f-4176-eada-df4f4c1db5fb",
        "colab": {
          "base_uri": "https://localhost:8080/",
          "height": 34
        }
      },
      "source": [
        "df_xg['Item_Outlet_Sales'][df_xg['Item_Outlet_Sales']<0]= df_xg['Item_Outlet_Sales'].mean()\n",
        "df_xg['Item_Outlet_Sales'][df_xg['Item_Outlet_Sales']<0].shape[0]"
      ],
      "execution_count": 201,
      "outputs": [
        {
          "output_type": "execute_result",
          "data": {
            "text/plain": [
              "0"
            ]
          },
          "metadata": {
            "tags": []
          },
          "execution_count": 201
        }
      ]
    },
    {
      "cell_type": "code",
      "metadata": {
        "id": "uFUga5i9nv5a"
      },
      "source": [
        "# Importing data DF to My drive\n",
        "df_xg.to_csv('/content/drive/My Drive/BigMart/10.54.csv', index=False)"
      ],
      "execution_count": 203,
      "outputs": []
    },
    {
      "cell_type": "code",
      "metadata": {
        "id": "4QDtT50rAFMH"
      },
      "source": [
        ""
      ],
      "execution_count": 202,
      "outputs": []
    }
  ]
}